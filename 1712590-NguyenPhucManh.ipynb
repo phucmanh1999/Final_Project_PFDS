{
 "cells": [
  {
   "cell_type": "markdown",
   "metadata": {},
   "source": [
    "# Đồ án cuối kì: Lập trình cho khoa học dữ liệu\n",
    "\n",
    "Họ tên: Nguyễn Phúc Mạnh\n",
    "\n",
    "MSSV: 1712590"
   ]
  },
  {
   "cell_type": "markdown",
   "metadata": {},
   "source": [
    "## Import"
   ]
  },
  {
   "cell_type": "code",
   "execution_count": 35,
   "metadata": {},
   "outputs": [],
   "source": [
    "%matplotlib inline\n",
    "import matplotlib.pyplot as plt\n",
    "import pandas as pd\n",
    "import numpy as np\n",
    "import seaborn as sns"
   ]
  },
  {
   "cell_type": "markdown",
   "metadata": {},
   "source": [
    "## Lấy dữ liệu"
   ]
  },
  {
   "cell_type": "markdown",
   "metadata": {},
   "source": [
    "Dữ liệu được dùng trong đồ án này là file \"books.csv\" đính kèm; đây là dữ liệu về sách trên trang web [goodreads.com](https://www.goodreads.com/), một trang web nơi mọi người chia sẻ với nhau về sách. Dữ liệu này được lấy từ [kaggle](https://www.kaggle.com/jealousleopard/goodreadsbooks), tác giả đã dùng Goodreads API để lấy dữ liệu."
   ]
  },
  {
   "cell_type": "code",
   "execution_count": 2,
   "metadata": {},
   "outputs": [],
   "source": [
    "## Khám phá dữ liệu"
   ]
  },
  {
   "cell_type": "code",
   "execution_count": 3,
   "metadata": {},
   "outputs": [],
   "source": [
    "### Đọc dữ liệu từ file csv vào dataframe"
   ]
  },
  {
   "cell_type": "code",
   "execution_count": 4,
   "metadata": {},
   "outputs": [
    {
     "name": "stderr",
     "output_type": "stream",
     "text": [
      "b'Skipping line 3350: expected 12 fields, saw 13\\nSkipping line 4704: expected 12 fields, saw 13\\nSkipping line 5879: expected 12 fields, saw 13\\nSkipping line 8981: expected 12 fields, saw 13\\n'\n"
     ]
    },
    {
     "data": {
      "text/html": [
       "<div>\n",
       "<style scoped>\n",
       "    .dataframe tbody tr th:only-of-type {\n",
       "        vertical-align: middle;\n",
       "    }\n",
       "\n",
       "    .dataframe tbody tr th {\n",
       "        vertical-align: top;\n",
       "    }\n",
       "\n",
       "    .dataframe thead th {\n",
       "        text-align: right;\n",
       "    }\n",
       "</style>\n",
       "<table border=\"1\" class=\"dataframe\">\n",
       "  <thead>\n",
       "    <tr style=\"text-align: right;\">\n",
       "      <th></th>\n",
       "      <th>bookID</th>\n",
       "      <th>title</th>\n",
       "      <th>authors</th>\n",
       "      <th>average_rating</th>\n",
       "      <th>isbn</th>\n",
       "      <th>isbn13</th>\n",
       "      <th>language_code</th>\n",
       "      <th>num_pages</th>\n",
       "      <th>ratings_count</th>\n",
       "      <th>text_reviews_count</th>\n",
       "      <th>publication_date</th>\n",
       "      <th>publisher</th>\n",
       "    </tr>\n",
       "  </thead>\n",
       "  <tbody>\n",
       "    <tr>\n",
       "      <th>0</th>\n",
       "      <td>1</td>\n",
       "      <td>Harry Potter and the Half-Blood Prince (Harry ...</td>\n",
       "      <td>J.K. Rowling/Mary GrandPré</td>\n",
       "      <td>4.57</td>\n",
       "      <td>0439785960</td>\n",
       "      <td>9780439785969</td>\n",
       "      <td>eng</td>\n",
       "      <td>652</td>\n",
       "      <td>2095690</td>\n",
       "      <td>27591</td>\n",
       "      <td>9/16/2006</td>\n",
       "      <td>Scholastic Inc.</td>\n",
       "    </tr>\n",
       "    <tr>\n",
       "      <th>1</th>\n",
       "      <td>2</td>\n",
       "      <td>Harry Potter and the Order of the Phoenix (Har...</td>\n",
       "      <td>J.K. Rowling/Mary GrandPré</td>\n",
       "      <td>4.49</td>\n",
       "      <td>0439358078</td>\n",
       "      <td>9780439358071</td>\n",
       "      <td>eng</td>\n",
       "      <td>870</td>\n",
       "      <td>2153167</td>\n",
       "      <td>29221</td>\n",
       "      <td>9/1/2004</td>\n",
       "      <td>Scholastic Inc.</td>\n",
       "    </tr>\n",
       "    <tr>\n",
       "      <th>2</th>\n",
       "      <td>4</td>\n",
       "      <td>Harry Potter and the Chamber of Secrets (Harry...</td>\n",
       "      <td>J.K. Rowling</td>\n",
       "      <td>4.42</td>\n",
       "      <td>0439554896</td>\n",
       "      <td>9780439554893</td>\n",
       "      <td>eng</td>\n",
       "      <td>352</td>\n",
       "      <td>6333</td>\n",
       "      <td>244</td>\n",
       "      <td>11/1/2003</td>\n",
       "      <td>Scholastic</td>\n",
       "    </tr>\n",
       "    <tr>\n",
       "      <th>3</th>\n",
       "      <td>5</td>\n",
       "      <td>Harry Potter and the Prisoner of Azkaban (Harr...</td>\n",
       "      <td>J.K. Rowling/Mary GrandPré</td>\n",
       "      <td>4.56</td>\n",
       "      <td>043965548X</td>\n",
       "      <td>9780439655484</td>\n",
       "      <td>eng</td>\n",
       "      <td>435</td>\n",
       "      <td>2339585</td>\n",
       "      <td>36325</td>\n",
       "      <td>5/1/2004</td>\n",
       "      <td>Scholastic Inc.</td>\n",
       "    </tr>\n",
       "    <tr>\n",
       "      <th>4</th>\n",
       "      <td>8</td>\n",
       "      <td>Harry Potter Boxed Set  Books 1-5 (Harry Potte...</td>\n",
       "      <td>J.K. Rowling/Mary GrandPré</td>\n",
       "      <td>4.78</td>\n",
       "      <td>0439682584</td>\n",
       "      <td>9780439682589</td>\n",
       "      <td>eng</td>\n",
       "      <td>2690</td>\n",
       "      <td>41428</td>\n",
       "      <td>164</td>\n",
       "      <td>9/13/2004</td>\n",
       "      <td>Scholastic</td>\n",
       "    </tr>\n",
       "  </tbody>\n",
       "</table>\n",
       "</div>"
      ],
      "text/plain": [
       "   bookID                                              title  \\\n",
       "0       1  Harry Potter and the Half-Blood Prince (Harry ...   \n",
       "1       2  Harry Potter and the Order of the Phoenix (Har...   \n",
       "2       4  Harry Potter and the Chamber of Secrets (Harry...   \n",
       "3       5  Harry Potter and the Prisoner of Azkaban (Harr...   \n",
       "4       8  Harry Potter Boxed Set  Books 1-5 (Harry Potte...   \n",
       "\n",
       "                      authors  average_rating        isbn         isbn13  \\\n",
       "0  J.K. Rowling/Mary GrandPré            4.57  0439785960  9780439785969   \n",
       "1  J.K. Rowling/Mary GrandPré            4.49  0439358078  9780439358071   \n",
       "2                J.K. Rowling            4.42  0439554896  9780439554893   \n",
       "3  J.K. Rowling/Mary GrandPré            4.56  043965548X  9780439655484   \n",
       "4  J.K. Rowling/Mary GrandPré            4.78  0439682584  9780439682589   \n",
       "\n",
       "  language_code    num_pages  ratings_count  text_reviews_count  \\\n",
       "0           eng          652        2095690               27591   \n",
       "1           eng          870        2153167               29221   \n",
       "2           eng          352           6333                 244   \n",
       "3           eng          435        2339585               36325   \n",
       "4           eng         2690          41428                 164   \n",
       "\n",
       "  publication_date        publisher  \n",
       "0        9/16/2006  Scholastic Inc.  \n",
       "1         9/1/2004  Scholastic Inc.  \n",
       "2        11/1/2003       Scholastic  \n",
       "3         5/1/2004  Scholastic Inc.  \n",
       "4        9/13/2004       Scholastic  "
      ]
     },
     "execution_count": 4,
     "metadata": {},
     "output_type": "execute_result"
    }
   ],
   "source": [
    "raw_df = pd.read_csv('books.csv', error_bad_lines = False) #loại bỏ các dòng có định dạng sai\n",
    "df = raw_df.copy()\n",
    "df.head()"
   ]
  },
  {
   "cell_type": "code",
   "execution_count": 5,
   "metadata": {},
   "outputs": [
    {
     "name": "stdout",
     "output_type": "stream",
     "text": [
      "<class 'pandas.core.frame.DataFrame'>\n",
      "RangeIndex: 11123 entries, 0 to 11122\n",
      "Data columns (total 12 columns):\n",
      " #   Column              Non-Null Count  Dtype  \n",
      "---  ------              --------------  -----  \n",
      " 0   bookID              11123 non-null  int64  \n",
      " 1   title               11123 non-null  object \n",
      " 2   authors             11123 non-null  object \n",
      " 3   average_rating      11123 non-null  float64\n",
      " 4   isbn                11123 non-null  object \n",
      " 5   isbn13              11123 non-null  int64  \n",
      " 6   language_code       11123 non-null  object \n",
      " 7     num_pages         11123 non-null  int64  \n",
      " 8   ratings_count       11123 non-null  int64  \n",
      " 9   text_reviews_count  11123 non-null  int64  \n",
      " 10  publication_date    11123 non-null  object \n",
      " 11  publisher           11123 non-null  object \n",
      "dtypes: float64(1), int64(5), object(6)\n",
      "memory usage: 1.0+ MB\n"
     ]
    }
   ],
   "source": [
    "df.info()"
   ]
  },
  {
   "cell_type": "markdown",
   "metadata": {},
   "source": [
    "### Dữ liệu gồm có bao nhiêu dòng và bao nhiêu cột? "
   ]
  },
  {
   "cell_type": "code",
   "execution_count": 6,
   "metadata": {},
   "outputs": [],
   "source": [
    "num_rows, num_cols = df.shape"
   ]
  },
  {
   "cell_type": "code",
   "execution_count": 7,
   "metadata": {},
   "outputs": [
    {
     "name": "stdout",
     "output_type": "stream",
     "text": [
      "Số dòng: 11123\n",
      "Số cột: 12\n"
     ]
    }
   ],
   "source": [
    "print('Số dòng: {}\\nSố cột: {}'.format(num_rows, num_cols))"
   ]
  },
  {
   "cell_type": "markdown",
   "metadata": {},
   "source": [
    "### Mỗi dòng và mỗi cột có ý nghĩa gì?"
   ]
  },
  {
   "cell_type": "markdown",
   "metadata": {},
   "source": [
    "Mô tả về mỗi cột của dữ liệu:\n",
    "- `bookID` id riêng cho mỗi cuốn sách              \n",
    "- `title    `      tên sách \n",
    "- `authors `            tác giả \n",
    "- `average_rating  `    điểm đánh giá trung bình (dùng thang đo 1-5 sao)\n",
    "- `isbn     `           cũng là id (International Standard Book Number).\n",
    "- `isbn13`             cũng là id, nhưng 13 số :) \n",
    "- `language_code `      ngôn ngữ gốc của cuốn sách\n",
    "- `num_pages`         số trang\n",
    "- `ratings_count `      tổng số lượt đánh giá (bằng sao)\n",
    "- `text_reviews_count`  tổng số đánh giá bằng chữ (bằng comment)\n",
    "- `publication_date`    ngày xuất bản\n",
    "- `publisher`      nhà xuất bản   \n",
    "\n",
    "Nhìn vào dữ liệu có thể thấy mỗi dòng mô tả thông tin về một cuốn sách\n",
    "\n",
    "\n",
    "\n"
   ]
  },
  {
   "cell_type": "markdown",
   "metadata": {},
   "source": [
    "### Mỗi cột  có dtype là gì?"
   ]
  },
  {
   "cell_type": "code",
   "execution_count": 8,
   "metadata": {},
   "outputs": [
    {
     "name": "stdout",
     "output_type": "stream",
     "text": [
      "<class 'pandas.core.frame.DataFrame'>\n",
      "RangeIndex: 11123 entries, 0 to 11122\n",
      "Data columns (total 12 columns):\n",
      " #   Column              Non-Null Count  Dtype  \n",
      "---  ------              --------------  -----  \n",
      " 0   bookID              11123 non-null  int64  \n",
      " 1   title               11123 non-null  object \n",
      " 2   authors             11123 non-null  object \n",
      " 3   average_rating      11123 non-null  float64\n",
      " 4   isbn                11123 non-null  object \n",
      " 5   isbn13              11123 non-null  int64  \n",
      " 6   language_code       11123 non-null  object \n",
      " 7     num_pages         11123 non-null  int64  \n",
      " 8   ratings_count       11123 non-null  int64  \n",
      " 9   text_reviews_count  11123 non-null  int64  \n",
      " 10  publication_date    11123 non-null  object \n",
      " 11  publisher           11123 non-null  object \n",
      "dtypes: float64(1), int64(5), object(6)\n",
      "memory usage: 1.0+ MB\n"
     ]
    }
   ],
   "source": [
    "df.info()"
   ]
  },
  {
   "cell_type": "markdown",
   "metadata": {},
   "source": [
    "Nhận xét:\n",
    "- Không có cột nào có giá trị thiếu.\n",
    "- Ta chỉ cần chuyển dữ liệu ở  cột publilcation_date về kiểu dữ liệu datetime. Trước khi làm vậy ta cần kiểm tra xem ở trong cột publication_data có chứa kiểu dữ liệu gì."
   ]
  },
  {
   "cell_type": "code",
   "execution_count": 9,
   "metadata": {},
   "outputs": [],
   "source": [
    "def open_object_dtype(s):\n",
    "    dtypes = set()\n",
    "    for i in s:\n",
    "        dtypes.add(type(i))\n",
    "    return dtypes"
   ]
  },
  {
   "cell_type": "code",
   "execution_count": 10,
   "metadata": {},
   "outputs": [
    {
     "data": {
      "text/plain": [
       "{str}"
      ]
     },
     "execution_count": 10,
     "metadata": {},
     "output_type": "execute_result"
    }
   ],
   "source": [
    "open_object_dtype(df['publication_date'])"
   ]
  },
  {
   "cell_type": "markdown",
   "metadata": {},
   "source": [
    "Ta thấy cột publication_date chưa kiểu str, nên có thể chuyển về kiểu datetime dễ dàng."
   ]
  },
  {
   "cell_type": "markdown",
   "metadata": {},
   "source": [
    "## Tiền xử lý"
   ]
  },
  {
   "cell_type": "markdown",
   "metadata": {},
   "source": [
    "### Lược bỏ cột dư thừa"
   ]
  },
  {
   "cell_type": "markdown",
   "metadata": {},
   "source": [
    "Ta thấy có tới 3 cột dùng để đặt id cho sách, chúng ta có thể bỏ bớt 2 cột `isbn` và `isbn13`, chỉ cần mỗi cột `bookID` là đủ."
   ]
  },
  {
   "cell_type": "code",
   "execution_count": 11,
   "metadata": {},
   "outputs": [],
   "source": [
    "df = df.drop(columns = ['isbn','isbn13'])"
   ]
  },
  {
   "cell_type": "markdown",
   "metadata": {},
   "source": [
    "### Đổi tên cột"
   ]
  },
  {
   "cell_type": "markdown",
   "metadata": {},
   "source": [
    "Bỏ dấu space dư thừa trong tên cột "
   ]
  },
  {
   "cell_type": "code",
   "execution_count": 12,
   "metadata": {},
   "outputs": [],
   "source": [
    "df.rename(columns=lambda x: x.replace(' ', ''), inplace= True)"
   ]
  },
  {
   "cell_type": "markdown",
   "metadata": {},
   "source": [
    "### Chuyển dtype của cột \"publication_date\" sang datetime"
   ]
  },
  {
   "cell_type": "code",
   "execution_count": 13,
   "metadata": {},
   "outputs": [
    {
     "data": {
      "text/plain": [
       "0         9/16/2006\n",
       "1          9/1/2004\n",
       "2         11/1/2003\n",
       "3          5/1/2004\n",
       "4         9/13/2004\n",
       "            ...    \n",
       "11118    12/21/2004\n",
       "11119     12/1/1988\n",
       "11120      8/1/1993\n",
       "11121     2/27/2007\n",
       "11122     5/28/2006\n",
       "Name: publication_date, Length: 11123, dtype: object"
      ]
     },
     "execution_count": 13,
     "metadata": {},
     "output_type": "execute_result"
    }
   ],
   "source": [
    "df['publication_date']"
   ]
  },
  {
   "cell_type": "markdown",
   "metadata": {},
   "source": [
    "Vì ở đây có 2 dòng dữ liệu có thời gian ko hợp lệ nên ta thêm errors = 'coerce' để biến chúng thành NaT"
   ]
  },
  {
   "cell_type": "code",
   "execution_count": 14,
   "metadata": {},
   "outputs": [],
   "source": [
    "\n",
    "df['publication_date'] = pd.to_datetime(df['publication_date'],format = '%m/%d/%Y', errors = 'coerce')\n"
   ]
  },
  {
   "cell_type": "code",
   "execution_count": 15,
   "metadata": {},
   "outputs": [
    {
     "data": {
      "text/plain": [
       "{pandas._libs.tslibs.nattype.NaTType, pandas._libs.tslibs.timestamps.Timestamp}"
      ]
     },
     "execution_count": 15,
     "metadata": {},
     "output_type": "execute_result"
    }
   ],
   "source": [
    "open_object_dtype(df['publication_date'])"
   ]
  },
  {
   "cell_type": "markdown",
   "metadata": {},
   "source": [
    "Kiểm tra 2 dòng dữ liệu có ngày tháng sai:"
   ]
  },
  {
   "cell_type": "code",
   "execution_count": 16,
   "metadata": {},
   "outputs": [
    {
     "name": "stdout",
     "output_type": "stream",
     "text": [
      "8177 bookID                                                            31373\n",
      "title                 In Pursuit of the Proper Sinner (Inspector Lyn...\n",
      "authors                                               Elizabeth  George\n",
      "average_rating                                                      4.1\n",
      "isbn                                                         0553575104\n",
      "isbn13                                                    9780553575101\n",
      "language_code                                                       eng\n",
      "  num_pages                                                         718\n",
      "ratings_count                                                     10608\n",
      "text_reviews_count                                                  295\n",
      "publication_date                                             11/31/2000\n",
      "publisher                                                  Bantam Books\n",
      "Name: 8177, dtype: object\n",
      "\n",
      "11094 bookID                                                          45531\n",
      "title                      Montaillou  village occitan de 1294 à 1324\n",
      "authors               Emmanuel Le Roy Ladurie/Emmanuel Le Roy-Ladurie\n",
      "average_rating                                                   3.96\n",
      "isbn                                                       2070323285\n",
      "isbn13                                                  9782070323289\n",
      "language_code                                                     fre\n",
      "  num_pages                                                       640\n",
      "ratings_count                                                      15\n",
      "text_reviews_count                                                  2\n",
      "publication_date                                            6/31/1982\n",
      "publisher                                              Folio histoire\n",
      "Name: 11094, dtype: object\n",
      "\n"
     ]
    }
   ],
   "source": [
    "for i in range(num_rows):\n",
    "    if type(df['publication_date'][i]) == pd.pandas._libs.tslibs.nattype.NaTType:\n",
    "        print(i,raw_df.iloc[i]) #vì df ở 2 dòng đó ngày tháng là NaT nên ta dùng raw_df\n",
    "        print()\n"
   ]
  },
  {
   "cell_type": "markdown",
   "metadata": {},
   "source": [
    "Chúng ta có thể thấy ngày 31/11 và 31/6 không tồn tại.  \n",
    "Vậy chúng ta có sửa lại thành 30/11 và 30/6 (hoặc 31/10, 31/12 và 31/5, 31/7).  \n"
   ]
  },
  {
   "cell_type": "code",
   "execution_count": 17,
   "metadata": {},
   "outputs": [],
   "source": [
    "raw_df.iloc[[8177],[10]] = '11/30/2000'\n",
    "raw_df.iloc[[11094],[10]] = '6/30/1982'"
   ]
  },
  {
   "cell_type": "markdown",
   "metadata": {},
   "source": [
    "Giờ chuyển lại cột `publication_date`"
   ]
  },
  {
   "cell_type": "code",
   "execution_count": 18,
   "metadata": {},
   "outputs": [],
   "source": [
    "df['publication_date'] = pd.to_datetime(raw_df['publication_date'],format = '%m/%d/%Y')"
   ]
  },
  {
   "cell_type": "code",
   "execution_count": 19,
   "metadata": {},
   "outputs": [
    {
     "name": "stdout",
     "output_type": "stream",
     "text": [
      "<class 'pandas.core.frame.DataFrame'>\n",
      "RangeIndex: 11123 entries, 0 to 11122\n",
      "Data columns (total 10 columns):\n",
      " #   Column              Non-Null Count  Dtype         \n",
      "---  ------              --------------  -----         \n",
      " 0   bookID              11123 non-null  int64         \n",
      " 1   title               11123 non-null  object        \n",
      " 2   authors             11123 non-null  object        \n",
      " 3   average_rating      11123 non-null  float64       \n",
      " 4   language_code       11123 non-null  object        \n",
      " 5   num_pages           11123 non-null  int64         \n",
      " 6   ratings_count       11123 non-null  int64         \n",
      " 7   text_reviews_count  11123 non-null  int64         \n",
      " 8   publication_date    11123 non-null  datetime64[ns]\n",
      " 9   publisher           11123 non-null  object        \n",
      "dtypes: datetime64[ns](1), float64(1), int64(4), object(4)\n",
      "memory usage: 869.1+ KB\n"
     ]
    }
   ],
   "source": [
    "df.info()"
   ]
  },
  {
   "cell_type": "markdown",
   "metadata": {},
   "source": [
    "## Khám phá dữ liệu"
   ]
  },
  {
   "cell_type": "markdown",
   "metadata": {},
   "source": [
    "### Các cột dạng numeric và datetime có miền giá trị như thế nào?"
   ]
  },
  {
   "cell_type": "markdown",
   "metadata": {},
   "source": [
    "Có 5 cột dạng numberic và 1 cột dạng datetime.Cột `bookID` chúng ta bỏ qua, ta tính min, max, mean của 4 cột `average_rating`, `num_pages`, `ratings_count`, `text_reviews_count`, cột `publication_date` ta cho mean = NaN"
   ]
  },
  {
   "cell_type": "code",
   "execution_count": 20,
   "metadata": {},
   "outputs": [
    {
     "data": {
      "text/html": [
       "<div>\n",
       "<style scoped>\n",
       "    .dataframe tbody tr th:only-of-type {\n",
       "        vertical-align: middle;\n",
       "    }\n",
       "\n",
       "    .dataframe tbody tr th {\n",
       "        vertical-align: top;\n",
       "    }\n",
       "\n",
       "    .dataframe thead th {\n",
       "        text-align: right;\n",
       "    }\n",
       "</style>\n",
       "<table border=\"1\" class=\"dataframe\">\n",
       "  <thead>\n",
       "    <tr style=\"text-align: right;\">\n",
       "      <th></th>\n",
       "      <th>bookID</th>\n",
       "      <th>average_rating</th>\n",
       "      <th>num_pages</th>\n",
       "      <th>ratings_count</th>\n",
       "      <th>text_reviews_count</th>\n",
       "    </tr>\n",
       "  </thead>\n",
       "  <tbody>\n",
       "    <tr>\n",
       "      <th>count</th>\n",
       "      <td>11123.000000</td>\n",
       "      <td>11123.000000</td>\n",
       "      <td>11123.000000</td>\n",
       "      <td>1.112300e+04</td>\n",
       "      <td>11123.000000</td>\n",
       "    </tr>\n",
       "    <tr>\n",
       "      <th>mean</th>\n",
       "      <td>21310.856963</td>\n",
       "      <td>3.934075</td>\n",
       "      <td>336.405556</td>\n",
       "      <td>1.794285e+04</td>\n",
       "      <td>542.048099</td>\n",
       "    </tr>\n",
       "    <tr>\n",
       "      <th>std</th>\n",
       "      <td>13094.727252</td>\n",
       "      <td>0.350485</td>\n",
       "      <td>241.152626</td>\n",
       "      <td>1.124992e+05</td>\n",
       "      <td>2576.619589</td>\n",
       "    </tr>\n",
       "    <tr>\n",
       "      <th>min</th>\n",
       "      <td>1.000000</td>\n",
       "      <td>0.000000</td>\n",
       "      <td>0.000000</td>\n",
       "      <td>0.000000e+00</td>\n",
       "      <td>0.000000</td>\n",
       "    </tr>\n",
       "    <tr>\n",
       "      <th>25%</th>\n",
       "      <td>10277.500000</td>\n",
       "      <td>3.770000</td>\n",
       "      <td>192.000000</td>\n",
       "      <td>1.040000e+02</td>\n",
       "      <td>9.000000</td>\n",
       "    </tr>\n",
       "    <tr>\n",
       "      <th>50%</th>\n",
       "      <td>20287.000000</td>\n",
       "      <td>3.960000</td>\n",
       "      <td>299.000000</td>\n",
       "      <td>7.450000e+02</td>\n",
       "      <td>47.000000</td>\n",
       "    </tr>\n",
       "    <tr>\n",
       "      <th>75%</th>\n",
       "      <td>32104.500000</td>\n",
       "      <td>4.140000</td>\n",
       "      <td>416.000000</td>\n",
       "      <td>5.000500e+03</td>\n",
       "      <td>238.000000</td>\n",
       "    </tr>\n",
       "    <tr>\n",
       "      <th>max</th>\n",
       "      <td>45641.000000</td>\n",
       "      <td>5.000000</td>\n",
       "      <td>6576.000000</td>\n",
       "      <td>4.597666e+06</td>\n",
       "      <td>94265.000000</td>\n",
       "    </tr>\n",
       "  </tbody>\n",
       "</table>\n",
       "</div>"
      ],
      "text/plain": [
       "             bookID  average_rating     num_pages  ratings_count  \\\n",
       "count  11123.000000    11123.000000  11123.000000   1.112300e+04   \n",
       "mean   21310.856963        3.934075    336.405556   1.794285e+04   \n",
       "std    13094.727252        0.350485    241.152626   1.124992e+05   \n",
       "min        1.000000        0.000000      0.000000   0.000000e+00   \n",
       "25%    10277.500000        3.770000    192.000000   1.040000e+02   \n",
       "50%    20287.000000        3.960000    299.000000   7.450000e+02   \n",
       "75%    32104.500000        4.140000    416.000000   5.000500e+03   \n",
       "max    45641.000000        5.000000   6576.000000   4.597666e+06   \n",
       "\n",
       "       text_reviews_count  \n",
       "count        11123.000000  \n",
       "mean           542.048099  \n",
       "std           2576.619589  \n",
       "min              0.000000  \n",
       "25%              9.000000  \n",
       "50%             47.000000  \n",
       "75%            238.000000  \n",
       "max          94265.000000  "
      ]
     },
     "execution_count": 20,
     "metadata": {},
     "output_type": "execute_result"
    }
   ],
   "source": [
    "df.describe()"
   ]
  },
  {
   "cell_type": "code",
   "execution_count": 21,
   "metadata": {},
   "outputs": [
    {
     "data": {
      "text/html": [
       "<div>\n",
       "<style scoped>\n",
       "    .dataframe tbody tr th:only-of-type {\n",
       "        vertical-align: middle;\n",
       "    }\n",
       "\n",
       "    .dataframe tbody tr th {\n",
       "        vertical-align: top;\n",
       "    }\n",
       "\n",
       "    .dataframe thead th {\n",
       "        text-align: right;\n",
       "    }\n",
       "</style>\n",
       "<table border=\"1\" class=\"dataframe\">\n",
       "  <thead>\n",
       "    <tr style=\"text-align: right;\">\n",
       "      <th></th>\n",
       "      <th>average_rating</th>\n",
       "      <th>num_pages</th>\n",
       "      <th>ratings_count</th>\n",
       "      <th>text_reviews_count</th>\n",
       "      <th>publication_date</th>\n",
       "    </tr>\n",
       "  </thead>\n",
       "  <tbody>\n",
       "    <tr>\n",
       "      <th>mean</th>\n",
       "      <td>3.9341</td>\n",
       "      <td>336.4056</td>\n",
       "      <td>17942.8481</td>\n",
       "      <td>542.0481</td>\n",
       "      <td>NaT</td>\n",
       "    </tr>\n",
       "    <tr>\n",
       "      <th>min</th>\n",
       "      <td>0.0000</td>\n",
       "      <td>0.0000</td>\n",
       "      <td>0.0000</td>\n",
       "      <td>0.0000</td>\n",
       "      <td>1900-01-01</td>\n",
       "    </tr>\n",
       "    <tr>\n",
       "      <th>max</th>\n",
       "      <td>5.0000</td>\n",
       "      <td>6576.0000</td>\n",
       "      <td>4597666.0000</td>\n",
       "      <td>94265.0000</td>\n",
       "      <td>2020-03-31</td>\n",
       "    </tr>\n",
       "  </tbody>\n",
       "</table>\n",
       "</div>"
      ],
      "text/plain": [
       "      average_rating  num_pages  ratings_count  text_reviews_count  \\\n",
       "mean          3.9341   336.4056     17942.8481            542.0481   \n",
       "min           0.0000     0.0000         0.0000              0.0000   \n",
       "max           5.0000  6576.0000   4597666.0000          94265.0000   \n",
       "\n",
       "     publication_date  \n",
       "mean              NaT  \n",
       "min        1900-01-01  \n",
       "max        2020-03-31  "
      ]
     },
     "execution_count": 21,
     "metadata": {},
     "output_type": "execute_result"
    }
   ],
   "source": [
    "col_ranges_df = df.describe().iloc[[1,3,7],[1,2,3,4]]\n",
    "col_ranges_df['publication_date'] =[np.nan,df['publication_date'].min(),df['publication_date'].max()]\n",
    "pd.set_option('display.float_format', lambda x: '%.4f' % x) # bỏ định dạng e cho dễ nhìn hơn\n",
    "col_ranges_df"
   ]
  },
  {
   "cell_type": "markdown",
   "metadata": {},
   "source": [
    "Nhìn qua hàng `mean` ta có thể thấy được:\n",
    "- `average_rating` = 3.9, rất gần với 5, cho thấy đa số sách ở `goodreads` đều được đánh giá cao \n",
    "- Chênh lệch giữ rating_count và test_reviews_count rất lớn chứng tỏ rất ít người viết comment review sách mà đa phần là đánh giá bằng sao\n"
   ]
  },
  {
   "cell_type": "markdown",
   "metadata": {},
   "source": [
    "## Đưa ra các câu hỏi cần trả lời\n"
   ]
  },
  {
   "cell_type": "markdown",
   "metadata": {},
   "source": [
    "- Số lượng sách được viết của mỗi ngôn ngữ\n",
    "- Top 10 sách được đánh giá nhiều nhất\n",
    "- Top 10 sách có số lượng comment cao nhất\n",
    "- Top 10 sách có điểm trung bình đánh giá cao nhất\n",
    "- Top 10 sách dài nhất\n",
    "- Tác giả viết nhiều nhất\n",
    "- Top 10 tác giả được đánh giá cao nhất"
   ]
  },
  {
   "cell_type": "markdown",
   "metadata": {},
   "source": [
    "## Phân tích dữ liệu để trả lời cho các câu hỏi "
   ]
  },
  {
   "cell_type": "markdown",
   "metadata": {},
   "source": [
    "### Số lượng sách được viết của mỗi ngôn ngữ\n",
    "Ta gom nhóm theo cột `language_code` rồi đếm số giá trị.\n"
   ]
  },
  {
   "cell_type": "code",
   "execution_count": 22,
   "metadata": {},
   "outputs": [
    {
     "data": {
      "text/plain": [
       "language_code\n",
       "eng      8908\n",
       "en-US    1408\n",
       "spa       218\n",
       "en-GB     214\n",
       "fre       144\n",
       "ger        99\n",
       "jpn        46\n",
       "mul        19\n",
       "zho        14\n",
       "grc        11\n",
       "dtype: int64"
      ]
     },
     "execution_count": 22,
     "metadata": {},
     "output_type": "execute_result"
    }
   ],
   "source": [
    "book_lan = df.groupby(\"language_code\").agg('size').sort_values(ascending = False)[:10]\n",
    "book_lan"
   ]
  },
  {
   "cell_type": "code",
   "execution_count": 23,
   "metadata": {},
   "outputs": [
    {
     "name": "stdout",
     "output_type": "stream",
     "text": [
      "10530\n",
      "94.66870448619976 %\n"
     ]
    }
   ],
   "source": [
    "total_eng_book = book_lan['eng']+book_lan['en-US']+book_lan['en-GB']\n",
    "print(total_eng_book)\n",
    "print(total_eng_book/num_rows*100,'%')"
   ]
  },
  {
   "cell_type": "markdown",
   "metadata": {},
   "source": [
    "Số sách viết bằng tiếng Anh là `10530` chiếm phần rất lớn (95%) so với phần còn lại trong bộ dữ liệu."
   ]
  },
  {
   "cell_type": "markdown",
   "metadata": {},
   "source": [
    "### Top 10 sách được đánh giá nhiều nhất"
   ]
  },
  {
   "cell_type": "markdown",
   "metadata": {},
   "source": [
    "Sắp xếp giảm dần theo cột `ratings_count`"
   ]
  },
  {
   "cell_type": "code",
   "execution_count": 24,
   "metadata": {},
   "outputs": [
    {
     "data": {
      "text/html": [
       "<div>\n",
       "<style scoped>\n",
       "    .dataframe tbody tr th:only-of-type {\n",
       "        vertical-align: middle;\n",
       "    }\n",
       "\n",
       "    .dataframe tbody tr th {\n",
       "        vertical-align: top;\n",
       "    }\n",
       "\n",
       "    .dataframe thead th {\n",
       "        text-align: right;\n",
       "    }\n",
       "</style>\n",
       "<table border=\"1\" class=\"dataframe\">\n",
       "  <thead>\n",
       "    <tr style=\"text-align: right;\">\n",
       "      <th></th>\n",
       "      <th>bookID</th>\n",
       "      <th>title</th>\n",
       "      <th>authors</th>\n",
       "      <th>average_rating</th>\n",
       "      <th>language_code</th>\n",
       "      <th>num_pages</th>\n",
       "      <th>ratings_count</th>\n",
       "      <th>text_reviews_count</th>\n",
       "      <th>publication_date</th>\n",
       "      <th>publisher</th>\n",
       "    </tr>\n",
       "  </thead>\n",
       "  <tbody>\n",
       "    <tr>\n",
       "      <th>10336</th>\n",
       "      <td>41865</td>\n",
       "      <td>Twilight (Twilight  #1)</td>\n",
       "      <td>Stephenie Meyer</td>\n",
       "      <td>3.5900</td>\n",
       "      <td>eng</td>\n",
       "      <td>501</td>\n",
       "      <td>4597666</td>\n",
       "      <td>94265</td>\n",
       "      <td>2006-09-06</td>\n",
       "      <td>Little  Brown and Company</td>\n",
       "    </tr>\n",
       "    <tr>\n",
       "      <th>1697</th>\n",
       "      <td>5907</td>\n",
       "      <td>The Hobbit  or There and Back Again</td>\n",
       "      <td>J.R.R. Tolkien</td>\n",
       "      <td>4.2700</td>\n",
       "      <td>eng</td>\n",
       "      <td>366</td>\n",
       "      <td>2530894</td>\n",
       "      <td>32871</td>\n",
       "      <td>2002-08-15</td>\n",
       "      <td>Houghton Mifflin</td>\n",
       "    </tr>\n",
       "    <tr>\n",
       "      <th>1462</th>\n",
       "      <td>5107</td>\n",
       "      <td>The Catcher in the Rye</td>\n",
       "      <td>J.D. Salinger</td>\n",
       "      <td>3.8000</td>\n",
       "      <td>eng</td>\n",
       "      <td>277</td>\n",
       "      <td>2457092</td>\n",
       "      <td>43499</td>\n",
       "      <td>2001-01-30</td>\n",
       "      <td>Back Bay Books</td>\n",
       "    </tr>\n",
       "    <tr>\n",
       "      <th>307</th>\n",
       "      <td>960</td>\n",
       "      <td>Angels &amp; Demons (Robert Langdon  #1)</td>\n",
       "      <td>Dan Brown</td>\n",
       "      <td>3.8900</td>\n",
       "      <td>eng</td>\n",
       "      <td>736</td>\n",
       "      <td>2418736</td>\n",
       "      <td>21303</td>\n",
       "      <td>2006-04-01</td>\n",
       "      <td>Pocket Books</td>\n",
       "    </tr>\n",
       "    <tr>\n",
       "      <th>3</th>\n",
       "      <td>5</td>\n",
       "      <td>Harry Potter and the Prisoner of Azkaban (Harr...</td>\n",
       "      <td>J.K. Rowling/Mary GrandPré</td>\n",
       "      <td>4.5600</td>\n",
       "      <td>eng</td>\n",
       "      <td>435</td>\n",
       "      <td>2339585</td>\n",
       "      <td>36325</td>\n",
       "      <td>2004-05-01</td>\n",
       "      <td>Scholastic Inc.</td>\n",
       "    </tr>\n",
       "    <tr>\n",
       "      <th>4415</th>\n",
       "      <td>15881</td>\n",
       "      <td>Harry Potter and the Chamber of Secrets (Harry...</td>\n",
       "      <td>J.K. Rowling/Mary GrandPré</td>\n",
       "      <td>4.4200</td>\n",
       "      <td>eng</td>\n",
       "      <td>341</td>\n",
       "      <td>2293963</td>\n",
       "      <td>34692</td>\n",
       "      <td>1999-06-02</td>\n",
       "      <td>Arthur A. Levine Books / Scholastic Inc.</td>\n",
       "    </tr>\n",
       "    <tr>\n",
       "      <th>1</th>\n",
       "      <td>2</td>\n",
       "      <td>Harry Potter and the Order of the Phoenix (Har...</td>\n",
       "      <td>J.K. Rowling/Mary GrandPré</td>\n",
       "      <td>4.4900</td>\n",
       "      <td>eng</td>\n",
       "      <td>870</td>\n",
       "      <td>2153167</td>\n",
       "      <td>29221</td>\n",
       "      <td>2004-09-01</td>\n",
       "      <td>Scholastic Inc.</td>\n",
       "    </tr>\n",
       "    <tr>\n",
       "      <th>23</th>\n",
       "      <td>34</td>\n",
       "      <td>The Fellowship of the Ring (The Lord of the Ri...</td>\n",
       "      <td>J.R.R. Tolkien</td>\n",
       "      <td>4.3600</td>\n",
       "      <td>eng</td>\n",
       "      <td>398</td>\n",
       "      <td>2128944</td>\n",
       "      <td>13670</td>\n",
       "      <td>2003-09-05</td>\n",
       "      <td>Houghton Mifflin Harcourt</td>\n",
       "    </tr>\n",
       "    <tr>\n",
       "      <th>2114</th>\n",
       "      <td>7613</td>\n",
       "      <td>Animal Farm</td>\n",
       "      <td>George Orwell/Boris Grabnar/Peter Škerl</td>\n",
       "      <td>3.9300</td>\n",
       "      <td>eng</td>\n",
       "      <td>122</td>\n",
       "      <td>2111750</td>\n",
       "      <td>29677</td>\n",
       "      <td>2003-05-06</td>\n",
       "      <td>NAL</td>\n",
       "    </tr>\n",
       "    <tr>\n",
       "      <th>0</th>\n",
       "      <td>1</td>\n",
       "      <td>Harry Potter and the Half-Blood Prince (Harry ...</td>\n",
       "      <td>J.K. Rowling/Mary GrandPré</td>\n",
       "      <td>4.5700</td>\n",
       "      <td>eng</td>\n",
       "      <td>652</td>\n",
       "      <td>2095690</td>\n",
       "      <td>27591</td>\n",
       "      <td>2006-09-16</td>\n",
       "      <td>Scholastic Inc.</td>\n",
       "    </tr>\n",
       "  </tbody>\n",
       "</table>\n",
       "</div>"
      ],
      "text/plain": [
       "       bookID                                              title  \\\n",
       "10336   41865                            Twilight (Twilight  #1)   \n",
       "1697     5907                The Hobbit  or There and Back Again   \n",
       "1462     5107                             The Catcher in the Rye   \n",
       "307       960               Angels & Demons (Robert Langdon  #1)   \n",
       "3           5  Harry Potter and the Prisoner of Azkaban (Harr...   \n",
       "4415    15881  Harry Potter and the Chamber of Secrets (Harry...   \n",
       "1           2  Harry Potter and the Order of the Phoenix (Har...   \n",
       "23         34  The Fellowship of the Ring (The Lord of the Ri...   \n",
       "2114     7613                                        Animal Farm   \n",
       "0           1  Harry Potter and the Half-Blood Prince (Harry ...   \n",
       "\n",
       "                                       authors  average_rating language_code  \\\n",
       "10336                          Stephenie Meyer          3.5900           eng   \n",
       "1697                            J.R.R. Tolkien          4.2700           eng   \n",
       "1462                             J.D. Salinger          3.8000           eng   \n",
       "307                                  Dan Brown          3.8900           eng   \n",
       "3                   J.K. Rowling/Mary GrandPré          4.5600           eng   \n",
       "4415                J.K. Rowling/Mary GrandPré          4.4200           eng   \n",
       "1                   J.K. Rowling/Mary GrandPré          4.4900           eng   \n",
       "23                              J.R.R. Tolkien          4.3600           eng   \n",
       "2114   George Orwell/Boris Grabnar/Peter Škerl          3.9300           eng   \n",
       "0                   J.K. Rowling/Mary GrandPré          4.5700           eng   \n",
       "\n",
       "       num_pages  ratings_count  text_reviews_count publication_date  \\\n",
       "10336        501        4597666               94265       2006-09-06   \n",
       "1697         366        2530894               32871       2002-08-15   \n",
       "1462         277        2457092               43499       2001-01-30   \n",
       "307          736        2418736               21303       2006-04-01   \n",
       "3            435        2339585               36325       2004-05-01   \n",
       "4415         341        2293963               34692       1999-06-02   \n",
       "1            870        2153167               29221       2004-09-01   \n",
       "23           398        2128944               13670       2003-09-05   \n",
       "2114         122        2111750               29677       2003-05-06   \n",
       "0            652        2095690               27591       2006-09-16   \n",
       "\n",
       "                                      publisher  \n",
       "10336                 Little  Brown and Company  \n",
       "1697                           Houghton Mifflin  \n",
       "1462                             Back Bay Books  \n",
       "307                                Pocket Books  \n",
       "3                               Scholastic Inc.  \n",
       "4415   Arthur A. Levine Books / Scholastic Inc.  \n",
       "1                               Scholastic Inc.  \n",
       "23                    Houghton Mifflin Harcourt  \n",
       "2114                                        NAL  \n",
       "0                               Scholastic Inc.  "
      ]
     },
     "execution_count": 24,
     "metadata": {},
     "output_type": "execute_result"
    }
   ],
   "source": [
    "df.sort_values(by =['ratings_count'], ascending = False)[:10]"
   ]
  },
  {
   "cell_type": "markdown",
   "metadata": {},
   "source": [
    "- Cuốn Twilight được nhiều lượt đánh giá nhất nhưng điểm trung bình của nó lại thấp hơn mức trung bình của toàn bộ sách.\n",
    "- Có đến 4 tập truyện Harry Potter trong phần này"
   ]
  },
  {
   "cell_type": "markdown",
   "metadata": {},
   "source": [
    "### Top 10 sách có số lượng comment nhiều nhất"
   ]
  },
  {
   "cell_type": "markdown",
   "metadata": {},
   "source": [
    "Sắp xếp giảm dần theo cột `text_reviews_count`"
   ]
  },
  {
   "cell_type": "code",
   "execution_count": 25,
   "metadata": {},
   "outputs": [
    {
     "data": {
      "text/html": [
       "<div>\n",
       "<style scoped>\n",
       "    .dataframe tbody tr th:only-of-type {\n",
       "        vertical-align: middle;\n",
       "    }\n",
       "\n",
       "    .dataframe tbody tr th {\n",
       "        vertical-align: top;\n",
       "    }\n",
       "\n",
       "    .dataframe thead th {\n",
       "        text-align: right;\n",
       "    }\n",
       "</style>\n",
       "<table border=\"1\" class=\"dataframe\">\n",
       "  <thead>\n",
       "    <tr style=\"text-align: right;\">\n",
       "      <th></th>\n",
       "      <th>bookID</th>\n",
       "      <th>title</th>\n",
       "      <th>authors</th>\n",
       "      <th>average_rating</th>\n",
       "      <th>language_code</th>\n",
       "      <th>num_pages</th>\n",
       "      <th>ratings_count</th>\n",
       "      <th>text_reviews_count</th>\n",
       "      <th>publication_date</th>\n",
       "      <th>publisher</th>\n",
       "    </tr>\n",
       "  </thead>\n",
       "  <tbody>\n",
       "    <tr>\n",
       "      <th>10336</th>\n",
       "      <td>41865</td>\n",
       "      <td>Twilight (Twilight  #1)</td>\n",
       "      <td>Stephenie Meyer</td>\n",
       "      <td>3.5900</td>\n",
       "      <td>eng</td>\n",
       "      <td>501</td>\n",
       "      <td>4597666</td>\n",
       "      <td>94265</td>\n",
       "      <td>2006-09-06</td>\n",
       "      <td>Little  Brown and Company</td>\n",
       "    </tr>\n",
       "    <tr>\n",
       "      <th>5270</th>\n",
       "      <td>19063</td>\n",
       "      <td>The Book Thief</td>\n",
       "      <td>Markus Zusak/Cao Xuân Việt Khương</td>\n",
       "      <td>4.3700</td>\n",
       "      <td>eng</td>\n",
       "      <td>552</td>\n",
       "      <td>1516367</td>\n",
       "      <td>86881</td>\n",
       "      <td>2006-03-14</td>\n",
       "      <td>Alfred A. Knopf</td>\n",
       "    </tr>\n",
       "    <tr>\n",
       "      <th>1069</th>\n",
       "      <td>3636</td>\n",
       "      <td>The Giver (The Giver  #1)</td>\n",
       "      <td>Lois Lowry</td>\n",
       "      <td>4.1300</td>\n",
       "      <td>eng</td>\n",
       "      <td>208</td>\n",
       "      <td>1585589</td>\n",
       "      <td>56604</td>\n",
       "      <td>2006-01-24</td>\n",
       "      <td>Ember</td>\n",
       "    </tr>\n",
       "    <tr>\n",
       "      <th>284</th>\n",
       "      <td>865</td>\n",
       "      <td>The Alchemist</td>\n",
       "      <td>Paulo Coelho/Alan R. Clarke/Özdemir İnce</td>\n",
       "      <td>3.8600</td>\n",
       "      <td>eng</td>\n",
       "      <td>197</td>\n",
       "      <td>1631221</td>\n",
       "      <td>55843</td>\n",
       "      <td>1993-05-01</td>\n",
       "      <td>HarperCollins</td>\n",
       "    </tr>\n",
       "    <tr>\n",
       "      <th>10700</th>\n",
       "      <td>43641</td>\n",
       "      <td>Water for Elephants</td>\n",
       "      <td>Sara Gruen</td>\n",
       "      <td>4.0900</td>\n",
       "      <td>eng</td>\n",
       "      <td>335</td>\n",
       "      <td>1260027</td>\n",
       "      <td>52759</td>\n",
       "      <td>2007-05-01</td>\n",
       "      <td>Algonquin Books</td>\n",
       "    </tr>\n",
       "    <tr>\n",
       "      <th>7309</th>\n",
       "      <td>28187</td>\n",
       "      <td>The Lightning Thief (Percy Jackson and the Oly...</td>\n",
       "      <td>Rick Riordan</td>\n",
       "      <td>4.2500</td>\n",
       "      <td>eng</td>\n",
       "      <td>375</td>\n",
       "      <td>1766725</td>\n",
       "      <td>47951</td>\n",
       "      <td>2006-03-01</td>\n",
       "      <td>Disney Hyperion Books</td>\n",
       "    </tr>\n",
       "    <tr>\n",
       "      <th>5407</th>\n",
       "      <td>19501</td>\n",
       "      <td>Eat  Pray  Love</td>\n",
       "      <td>Elizabeth Gilbert</td>\n",
       "      <td>3.5500</td>\n",
       "      <td>eng</td>\n",
       "      <td>368</td>\n",
       "      <td>1362264</td>\n",
       "      <td>47620</td>\n",
       "      <td>2007-02-01</td>\n",
       "      <td>Riverhead Books</td>\n",
       "    </tr>\n",
       "    <tr>\n",
       "      <th>2060</th>\n",
       "      <td>7445</td>\n",
       "      <td>The Glass Castle</td>\n",
       "      <td>Jeannette Walls</td>\n",
       "      <td>4.2700</td>\n",
       "      <td>eng</td>\n",
       "      <td>288</td>\n",
       "      <td>808656</td>\n",
       "      <td>46176</td>\n",
       "      <td>2006-01-17</td>\n",
       "      <td>Scribner</td>\n",
       "    </tr>\n",
       "    <tr>\n",
       "      <th>1462</th>\n",
       "      <td>5107</td>\n",
       "      <td>The Catcher in the Rye</td>\n",
       "      <td>J.D. Salinger</td>\n",
       "      <td>3.8000</td>\n",
       "      <td>eng</td>\n",
       "      <td>277</td>\n",
       "      <td>2457092</td>\n",
       "      <td>43499</td>\n",
       "      <td>2001-01-30</td>\n",
       "      <td>Back Bay Books</td>\n",
       "    </tr>\n",
       "    <tr>\n",
       "      <th>3</th>\n",
       "      <td>5</td>\n",
       "      <td>Harry Potter and the Prisoner of Azkaban (Harr...</td>\n",
       "      <td>J.K. Rowling/Mary GrandPré</td>\n",
       "      <td>4.5600</td>\n",
       "      <td>eng</td>\n",
       "      <td>435</td>\n",
       "      <td>2339585</td>\n",
       "      <td>36325</td>\n",
       "      <td>2004-05-01</td>\n",
       "      <td>Scholastic Inc.</td>\n",
       "    </tr>\n",
       "  </tbody>\n",
       "</table>\n",
       "</div>"
      ],
      "text/plain": [
       "       bookID                                              title  \\\n",
       "10336   41865                            Twilight (Twilight  #1)   \n",
       "5270    19063                                     The Book Thief   \n",
       "1069     3636                          The Giver (The Giver  #1)   \n",
       "284       865                                      The Alchemist   \n",
       "10700   43641                                Water for Elephants   \n",
       "7309    28187  The Lightning Thief (Percy Jackson and the Oly...   \n",
       "5407    19501                                    Eat  Pray  Love   \n",
       "2060     7445                                   The Glass Castle   \n",
       "1462     5107                             The Catcher in the Rye   \n",
       "3           5  Harry Potter and the Prisoner of Azkaban (Harr...   \n",
       "\n",
       "                                        authors  average_rating language_code  \\\n",
       "10336                           Stephenie Meyer          3.5900           eng   \n",
       "5270          Markus Zusak/Cao Xuân Việt Khương          4.3700           eng   \n",
       "1069                                 Lois Lowry          4.1300           eng   \n",
       "284    Paulo Coelho/Alan R. Clarke/Özdemir İnce          3.8600           eng   \n",
       "10700                                Sara Gruen          4.0900           eng   \n",
       "7309                               Rick Riordan          4.2500           eng   \n",
       "5407                          Elizabeth Gilbert          3.5500           eng   \n",
       "2060                            Jeannette Walls          4.2700           eng   \n",
       "1462                              J.D. Salinger          3.8000           eng   \n",
       "3                    J.K. Rowling/Mary GrandPré          4.5600           eng   \n",
       "\n",
       "       num_pages  ratings_count  text_reviews_count publication_date  \\\n",
       "10336        501        4597666               94265       2006-09-06   \n",
       "5270         552        1516367               86881       2006-03-14   \n",
       "1069         208        1585589               56604       2006-01-24   \n",
       "284          197        1631221               55843       1993-05-01   \n",
       "10700        335        1260027               52759       2007-05-01   \n",
       "7309         375        1766725               47951       2006-03-01   \n",
       "5407         368        1362264               47620       2007-02-01   \n",
       "2060         288         808656               46176       2006-01-17   \n",
       "1462         277        2457092               43499       2001-01-30   \n",
       "3            435        2339585               36325       2004-05-01   \n",
       "\n",
       "                       publisher  \n",
       "10336  Little  Brown and Company  \n",
       "5270             Alfred A. Knopf  \n",
       "1069                       Ember  \n",
       "284                HarperCollins  \n",
       "10700            Algonquin Books  \n",
       "7309       Disney Hyperion Books  \n",
       "5407             Riverhead Books  \n",
       "2060                    Scribner  \n",
       "1462              Back Bay Books  \n",
       "3                Scholastic Inc.  "
      ]
     },
     "execution_count": 25,
     "metadata": {},
     "output_type": "execute_result"
    }
   ],
   "source": [
    "df.sort_values(by =['text_reviews_count'], ascending = False)[:10]"
   ]
  },
  {
   "cell_type": "markdown",
   "metadata": {},
   "source": [
    "- Cuốn Twilight lại xuất hiện ở vị trí thứ nhất, gấp 3 lượt comment so với cuốn The Book Thief ở vị trí thứ 2"
   ]
  },
  {
   "cell_type": "markdown",
   "metadata": {},
   "source": [
    "### Top 10 sách có điểm trung bình đánh giá cao nhất"
   ]
  },
  {
   "cell_type": "markdown",
   "metadata": {},
   "source": [
    "Sắp xếp giảm dần theo cột `average_rating`"
   ]
  },
  {
   "cell_type": "code",
   "execution_count": 26,
   "metadata": {},
   "outputs": [
    {
     "data": {
      "text/html": [
       "<div>\n",
       "<style scoped>\n",
       "    .dataframe tbody tr th:only-of-type {\n",
       "        vertical-align: middle;\n",
       "    }\n",
       "\n",
       "    .dataframe tbody tr th {\n",
       "        vertical-align: top;\n",
       "    }\n",
       "\n",
       "    .dataframe thead th {\n",
       "        text-align: right;\n",
       "    }\n",
       "</style>\n",
       "<table border=\"1\" class=\"dataframe\">\n",
       "  <thead>\n",
       "    <tr style=\"text-align: right;\">\n",
       "      <th></th>\n",
       "      <th>bookID</th>\n",
       "      <th>title</th>\n",
       "      <th>authors</th>\n",
       "      <th>average_rating</th>\n",
       "      <th>language_code</th>\n",
       "      <th>num_pages</th>\n",
       "      <th>ratings_count</th>\n",
       "      <th>text_reviews_count</th>\n",
       "      <th>publication_date</th>\n",
       "      <th>publisher</th>\n",
       "    </tr>\n",
       "  </thead>\n",
       "  <tbody>\n",
       "    <tr>\n",
       "      <th>624</th>\n",
       "      <td>2034</td>\n",
       "      <td>Comoediae 1: Acharenses/Equites/Nubes/Vespae/P...</td>\n",
       "      <td>Aristophanes/F.W. Hall/W.M. Geldart</td>\n",
       "      <td>5.0000</td>\n",
       "      <td>grc</td>\n",
       "      <td>364</td>\n",
       "      <td>0</td>\n",
       "      <td>0</td>\n",
       "      <td>1922-02-22</td>\n",
       "      <td>Oxford University Press  USA</td>\n",
       "    </tr>\n",
       "    <tr>\n",
       "      <th>9893</th>\n",
       "      <td>39829</td>\n",
       "      <td>His Princess Devotional: A Royal Encounter Wit...</td>\n",
       "      <td>Sheri Rose Shepherd</td>\n",
       "      <td>5.0000</td>\n",
       "      <td>eng</td>\n",
       "      <td>240</td>\n",
       "      <td>2</td>\n",
       "      <td>0</td>\n",
       "      <td>2007-10-16</td>\n",
       "      <td>Multnomah</td>\n",
       "    </tr>\n",
       "    <tr>\n",
       "      <th>4788</th>\n",
       "      <td>17224</td>\n",
       "      <td>The Diamond Color Meditation: Color Pathway to...</td>\n",
       "      <td>John  Diamond</td>\n",
       "      <td>5.0000</td>\n",
       "      <td>eng</td>\n",
       "      <td>74</td>\n",
       "      <td>5</td>\n",
       "      <td>3</td>\n",
       "      <td>2006-02-01</td>\n",
       "      <td>Square One Publishers</td>\n",
       "    </tr>\n",
       "    <tr>\n",
       "      <th>9324</th>\n",
       "      <td>36853</td>\n",
       "      <td>Tyrannosaurus Wrecks (Stanley  #1)</td>\n",
       "      <td>Laura Driscoll/Alisa Klayman-Grodsky/Eric     ...</td>\n",
       "      <td>5.0000</td>\n",
       "      <td>eng</td>\n",
       "      <td>24</td>\n",
       "      <td>2</td>\n",
       "      <td>1</td>\n",
       "      <td>2003-02-01</td>\n",
       "      <td>Disney Press</td>\n",
       "    </tr>\n",
       "    <tr>\n",
       "      <th>9720</th>\n",
       "      <td>38804</td>\n",
       "      <td>The Irish Anatomist: A Study of Flann O'Brien</td>\n",
       "      <td>Keith Donohue</td>\n",
       "      <td>5.0000</td>\n",
       "      <td>eng</td>\n",
       "      <td>222</td>\n",
       "      <td>1</td>\n",
       "      <td>0</td>\n",
       "      <td>2003-07-25</td>\n",
       "      <td>Academica Press</td>\n",
       "    </tr>\n",
       "    <tr>\n",
       "      <th>4933</th>\n",
       "      <td>17830</td>\n",
       "      <td>Bulgakov's the Master and Margarita: The Text ...</td>\n",
       "      <td>Elena N. Mahlow</td>\n",
       "      <td>5.0000</td>\n",
       "      <td>eng</td>\n",
       "      <td>202</td>\n",
       "      <td>4</td>\n",
       "      <td>0</td>\n",
       "      <td>1975-01-01</td>\n",
       "      <td>Vantage Press</td>\n",
       "    </tr>\n",
       "    <tr>\n",
       "      <th>6775</th>\n",
       "      <td>25426</td>\n",
       "      <td>Delwau Duon: Peintiadau Nicholas Evans = Symph...</td>\n",
       "      <td>Nicholas    Evans/Rhonda  Evans</td>\n",
       "      <td>5.0000</td>\n",
       "      <td>wel</td>\n",
       "      <td>150</td>\n",
       "      <td>1</td>\n",
       "      <td>0</td>\n",
       "      <td>1987-06-22</td>\n",
       "      <td>Y Lolfa</td>\n",
       "    </tr>\n",
       "    <tr>\n",
       "      <th>9282</th>\n",
       "      <td>36492</td>\n",
       "      <td>Oliver Wendell Holmes in Paris: Medicine  Theo...</td>\n",
       "      <td>William C. Dowling</td>\n",
       "      <td>5.0000</td>\n",
       "      <td>eng</td>\n",
       "      <td>179</td>\n",
       "      <td>1</td>\n",
       "      <td>1</td>\n",
       "      <td>2007-02-28</td>\n",
       "      <td>University Press of New England</td>\n",
       "    </tr>\n",
       "    <tr>\n",
       "      <th>786</th>\n",
       "      <td>2560</td>\n",
       "      <td>Willem de Kooning: Late Paintings</td>\n",
       "      <td>Julie Sylvester/David Sylvester</td>\n",
       "      <td>5.0000</td>\n",
       "      <td>eng</td>\n",
       "      <td>83</td>\n",
       "      <td>1</td>\n",
       "      <td>0</td>\n",
       "      <td>2006-09-01</td>\n",
       "      <td>Schirmer Mosel</td>\n",
       "    </tr>\n",
       "    <tr>\n",
       "      <th>4125</th>\n",
       "      <td>14741</td>\n",
       "      <td>Zone of the Enders: The 2nd Runner Official St...</td>\n",
       "      <td>Tim Bogenn</td>\n",
       "      <td>5.0000</td>\n",
       "      <td>eng</td>\n",
       "      <td>128</td>\n",
       "      <td>2</td>\n",
       "      <td>0</td>\n",
       "      <td>2003-03-06</td>\n",
       "      <td>BradyGames</td>\n",
       "    </tr>\n",
       "  </tbody>\n",
       "</table>\n",
       "</div>"
      ],
      "text/plain": [
       "      bookID                                              title  \\\n",
       "624     2034  Comoediae 1: Acharenses/Equites/Nubes/Vespae/P...   \n",
       "9893   39829  His Princess Devotional: A Royal Encounter Wit...   \n",
       "4788   17224  The Diamond Color Meditation: Color Pathway to...   \n",
       "9324   36853                 Tyrannosaurus Wrecks (Stanley  #1)   \n",
       "9720   38804      The Irish Anatomist: A Study of Flann O'Brien   \n",
       "4933   17830  Bulgakov's the Master and Margarita: The Text ...   \n",
       "6775   25426  Delwau Duon: Peintiadau Nicholas Evans = Symph...   \n",
       "9282   36492  Oliver Wendell Holmes in Paris: Medicine  Theo...   \n",
       "786     2560                  Willem de Kooning: Late Paintings   \n",
       "4125   14741  Zone of the Enders: The 2nd Runner Official St...   \n",
       "\n",
       "                                                authors  average_rating  \\\n",
       "624                 Aristophanes/F.W. Hall/W.M. Geldart          5.0000   \n",
       "9893                                Sheri Rose Shepherd          5.0000   \n",
       "4788                                      John  Diamond          5.0000   \n",
       "9324  Laura Driscoll/Alisa Klayman-Grodsky/Eric     ...          5.0000   \n",
       "9720                                      Keith Donohue          5.0000   \n",
       "4933                                    Elena N. Mahlow          5.0000   \n",
       "6775                    Nicholas    Evans/Rhonda  Evans          5.0000   \n",
       "9282                                 William C. Dowling          5.0000   \n",
       "786                     Julie Sylvester/David Sylvester          5.0000   \n",
       "4125                                         Tim Bogenn          5.0000   \n",
       "\n",
       "     language_code  num_pages  ratings_count  text_reviews_count  \\\n",
       "624            grc        364              0                   0   \n",
       "9893           eng        240              2                   0   \n",
       "4788           eng         74              5                   3   \n",
       "9324           eng         24              2                   1   \n",
       "9720           eng        222              1                   0   \n",
       "4933           eng        202              4                   0   \n",
       "6775           wel        150              1                   0   \n",
       "9282           eng        179              1                   1   \n",
       "786            eng         83              1                   0   \n",
       "4125           eng        128              2                   0   \n",
       "\n",
       "     publication_date                        publisher  \n",
       "624        1922-02-22     Oxford University Press  USA  \n",
       "9893       2007-10-16                        Multnomah  \n",
       "4788       2006-02-01            Square One Publishers  \n",
       "9324       2003-02-01                     Disney Press  \n",
       "9720       2003-07-25                  Academica Press  \n",
       "4933       1975-01-01                    Vantage Press  \n",
       "6775       1987-06-22                          Y Lolfa  \n",
       "9282       2007-02-28  University Press of New England  \n",
       "786        2006-09-01                   Schirmer Mosel  \n",
       "4125       2003-03-06                       BradyGames  "
      ]
     },
     "execution_count": 26,
     "metadata": {},
     "output_type": "execute_result"
    }
   ],
   "source": [
    "df.sort_values(by =['average_rating'], ascending = False)[:10]"
   ]
  },
  {
   "cell_type": "markdown",
   "metadata": {},
   "source": [
    "Rõ ràng là ta không thể dựa vào bảng này để đánh giá các cuốn sách trên là hay được bởi vì số lượt đánh giá của chúng quá ít.  \n",
    "Thay vì vậy, ta có thể thêm vào điều kiện số lượt đánh giá bằng sao và comment nhiều hơn trung bình.\n"
   ]
  },
  {
   "cell_type": "code",
   "execution_count": 27,
   "metadata": {},
   "outputs": [
    {
     "data": {
      "text/plain": [
       "(1244, 10)"
      ]
     },
     "execution_count": 27,
     "metadata": {},
     "output_type": "execute_result"
    }
   ],
   "source": [
    "high_rating_book = df[(df['ratings_count'] >= 17943) & (df['text_reviews_count'] >= 543)].sort_values(by =['average_rating'], ascending = False)\n",
    "high_rating_book.shape"
   ]
  },
  {
   "cell_type": "markdown",
   "metadata": {},
   "source": [
    "Bằng cách trên ta đã lọc được 9/10 sách chưa đạt tiêu chuẩn.   \n",
    "Top 10 cuốn sách có điểm trung bình đánh giá cao nhất:"
   ]
  },
  {
   "cell_type": "code",
   "execution_count": 28,
   "metadata": {},
   "outputs": [
    {
     "data": {
      "text/html": [
       "<div>\n",
       "<style scoped>\n",
       "    .dataframe tbody tr th:only-of-type {\n",
       "        vertical-align: middle;\n",
       "    }\n",
       "\n",
       "    .dataframe tbody tr th {\n",
       "        vertical-align: top;\n",
       "    }\n",
       "\n",
       "    .dataframe thead th {\n",
       "        text-align: right;\n",
       "    }\n",
       "</style>\n",
       "<table border=\"1\" class=\"dataframe\">\n",
       "  <thead>\n",
       "    <tr style=\"text-align: right;\">\n",
       "      <th></th>\n",
       "      <th>bookID</th>\n",
       "      <th>title</th>\n",
       "      <th>authors</th>\n",
       "      <th>average_rating</th>\n",
       "      <th>language_code</th>\n",
       "      <th>num_pages</th>\n",
       "      <th>ratings_count</th>\n",
       "      <th>text_reviews_count</th>\n",
       "      <th>publication_date</th>\n",
       "      <th>publisher</th>\n",
       "    </tr>\n",
       "  </thead>\n",
       "  <tbody>\n",
       "    <tr>\n",
       "      <th>6587</th>\n",
       "      <td>24812</td>\n",
       "      <td>The Complete Calvin and Hobbes</td>\n",
       "      <td>Bill Watterson</td>\n",
       "      <td>4.8200</td>\n",
       "      <td>eng</td>\n",
       "      <td>1456</td>\n",
       "      <td>32213</td>\n",
       "      <td>930</td>\n",
       "      <td>2005-09-06</td>\n",
       "      <td>Andrews McMeel Publishing</td>\n",
       "    </tr>\n",
       "    <tr>\n",
       "      <th>6</th>\n",
       "      <td>10</td>\n",
       "      <td>Harry Potter Collection (Harry Potter  #1-6)</td>\n",
       "      <td>J.K. Rowling</td>\n",
       "      <td>4.7300</td>\n",
       "      <td>eng</td>\n",
       "      <td>3342</td>\n",
       "      <td>28242</td>\n",
       "      <td>808</td>\n",
       "      <td>2005-09-12</td>\n",
       "      <td>Scholastic</td>\n",
       "    </tr>\n",
       "    <tr>\n",
       "      <th>21</th>\n",
       "      <td>30</td>\n",
       "      <td>J.R.R. Tolkien 4-Book Boxed Set: The Hobbit an...</td>\n",
       "      <td>J.R.R. Tolkien</td>\n",
       "      <td>4.5900</td>\n",
       "      <td>eng</td>\n",
       "      <td>1728</td>\n",
       "      <td>101233</td>\n",
       "      <td>1550</td>\n",
       "      <td>2012-09-25</td>\n",
       "      <td>Ballantine Books</td>\n",
       "    </tr>\n",
       "    <tr>\n",
       "      <th>4968</th>\n",
       "      <td>17961</td>\n",
       "      <td>Collected Fictions</td>\n",
       "      <td>Jorge Luis Borges/Andrew Hurley</td>\n",
       "      <td>4.5800</td>\n",
       "      <td>eng</td>\n",
       "      <td>565</td>\n",
       "      <td>18874</td>\n",
       "      <td>791</td>\n",
       "      <td>1999-09-30</td>\n",
       "      <td>Penguin Classics Deluxe Edition</td>\n",
       "    </tr>\n",
       "    <tr>\n",
       "      <th>0</th>\n",
       "      <td>1</td>\n",
       "      <td>Harry Potter and the Half-Blood Prince (Harry ...</td>\n",
       "      <td>J.K. Rowling/Mary GrandPré</td>\n",
       "      <td>4.5700</td>\n",
       "      <td>eng</td>\n",
       "      <td>652</td>\n",
       "      <td>2095690</td>\n",
       "      <td>27591</td>\n",
       "      <td>2006-09-16</td>\n",
       "      <td>Scholastic Inc.</td>\n",
       "    </tr>\n",
       "    <tr>\n",
       "      <th>3</th>\n",
       "      <td>5</td>\n",
       "      <td>Harry Potter and the Prisoner of Azkaban (Harr...</td>\n",
       "      <td>J.K. Rowling/Mary GrandPré</td>\n",
       "      <td>4.5600</td>\n",
       "      <td>eng</td>\n",
       "      <td>435</td>\n",
       "      <td>2339585</td>\n",
       "      <td>36325</td>\n",
       "      <td>2004-05-01</td>\n",
       "      <td>Scholastic Inc.</td>\n",
       "    </tr>\n",
       "    <tr>\n",
       "      <th>10675</th>\n",
       "      <td>43509</td>\n",
       "      <td>Harry Potter and the Goblet of Fire (Harry Pot...</td>\n",
       "      <td>J.K. Rowling</td>\n",
       "      <td>4.5600</td>\n",
       "      <td>eng</td>\n",
       "      <td>636</td>\n",
       "      <td>18754</td>\n",
       "      <td>906</td>\n",
       "      <td>2000-07-08</td>\n",
       "      <td>Bloomsbury</td>\n",
       "    </tr>\n",
       "    <tr>\n",
       "      <th>4244</th>\n",
       "      <td>15195</td>\n",
       "      <td>The Complete Maus</td>\n",
       "      <td>Art Spiegelman</td>\n",
       "      <td>4.5500</td>\n",
       "      <td>eng</td>\n",
       "      <td>296</td>\n",
       "      <td>111475</td>\n",
       "      <td>5966</td>\n",
       "      <td>2003-10-02</td>\n",
       "      <td>Penguin Books</td>\n",
       "    </tr>\n",
       "    <tr>\n",
       "      <th>6691</th>\n",
       "      <td>25101</td>\n",
       "      <td>Season of Mists (The Sandman  #4)</td>\n",
       "      <td>Neil Gaiman/Matt Wagner/George Pratt/Dick Gior...</td>\n",
       "      <td>4.5400</td>\n",
       "      <td>eng</td>\n",
       "      <td>217</td>\n",
       "      <td>50951</td>\n",
       "      <td>1038</td>\n",
       "      <td>1999-03-10</td>\n",
       "      <td>Vertigo</td>\n",
       "    </tr>\n",
       "    <tr>\n",
       "      <th>6694</th>\n",
       "      <td>25104</td>\n",
       "      <td>The Wake (The Sandman  #10)</td>\n",
       "      <td>Neil Gaiman/Michael Zulli/Jon J. Muth/Charles ...</td>\n",
       "      <td>4.5200</td>\n",
       "      <td>eng</td>\n",
       "      <td>191</td>\n",
       "      <td>37038</td>\n",
       "      <td>767</td>\n",
       "      <td>1999-09-03</td>\n",
       "      <td>Vertigo</td>\n",
       "    </tr>\n",
       "  </tbody>\n",
       "</table>\n",
       "</div>"
      ],
      "text/plain": [
       "       bookID                                              title  \\\n",
       "6587    24812                     The Complete Calvin and Hobbes   \n",
       "6          10       Harry Potter Collection (Harry Potter  #1-6)   \n",
       "21         30  J.R.R. Tolkien 4-Book Boxed Set: The Hobbit an...   \n",
       "4968    17961                                 Collected Fictions   \n",
       "0           1  Harry Potter and the Half-Blood Prince (Harry ...   \n",
       "3           5  Harry Potter and the Prisoner of Azkaban (Harr...   \n",
       "10675   43509  Harry Potter and the Goblet of Fire (Harry Pot...   \n",
       "4244    15195                                  The Complete Maus   \n",
       "6691    25101                  Season of Mists (The Sandman  #4)   \n",
       "6694    25104                        The Wake (The Sandman  #10)   \n",
       "\n",
       "                                                 authors  average_rating  \\\n",
       "6587                                      Bill Watterson          4.8200   \n",
       "6                                           J.K. Rowling          4.7300   \n",
       "21                                        J.R.R. Tolkien          4.5900   \n",
       "4968                     Jorge Luis Borges/Andrew Hurley          4.5800   \n",
       "0                             J.K. Rowling/Mary GrandPré          4.5700   \n",
       "3                             J.K. Rowling/Mary GrandPré          4.5600   \n",
       "10675                                       J.K. Rowling          4.5600   \n",
       "4244                                      Art Spiegelman          4.5500   \n",
       "6691   Neil Gaiman/Matt Wagner/George Pratt/Dick Gior...          4.5400   \n",
       "6694   Neil Gaiman/Michael Zulli/Jon J. Muth/Charles ...          4.5200   \n",
       "\n",
       "      language_code  num_pages  ratings_count  text_reviews_count  \\\n",
       "6587            eng       1456          32213                 930   \n",
       "6               eng       3342          28242                 808   \n",
       "21              eng       1728         101233                1550   \n",
       "4968            eng        565          18874                 791   \n",
       "0               eng        652        2095690               27591   \n",
       "3               eng        435        2339585               36325   \n",
       "10675           eng        636          18754                 906   \n",
       "4244            eng        296         111475                5966   \n",
       "6691            eng        217          50951                1038   \n",
       "6694            eng        191          37038                 767   \n",
       "\n",
       "      publication_date                        publisher  \n",
       "6587        2005-09-06        Andrews McMeel Publishing  \n",
       "6           2005-09-12                       Scholastic  \n",
       "21          2012-09-25                 Ballantine Books  \n",
       "4968        1999-09-30  Penguin Classics Deluxe Edition  \n",
       "0           2006-09-16                  Scholastic Inc.  \n",
       "3           2004-05-01                  Scholastic Inc.  \n",
       "10675       2000-07-08                       Bloomsbury  \n",
       "4244        2003-10-02                    Penguin Books  \n",
       "6691        1999-03-10                          Vertigo  \n",
       "6694        1999-09-03                          Vertigo  "
      ]
     },
     "execution_count": 28,
     "metadata": {},
     "output_type": "execute_result"
    }
   ],
   "source": [
    "high_rating_book.head(10)"
   ]
  },
  {
   "cell_type": "markdown",
   "metadata": {},
   "source": [
    "### Top 10 sách dài nhất"
   ]
  },
  {
   "cell_type": "markdown",
   "metadata": {},
   "source": [
    "Sắp xếp giảm dần theo cột `num_pages`\n",
    "\n"
   ]
  },
  {
   "cell_type": "code",
   "execution_count": 29,
   "metadata": {},
   "outputs": [
    {
     "name": "stdout",
     "output_type": "stream",
     "text": [
      "<class 'pandas.core.frame.DataFrame'>\n",
      "RangeIndex: 11123 entries, 0 to 11122\n",
      "Data columns (total 10 columns):\n",
      " #   Column              Non-Null Count  Dtype         \n",
      "---  ------              --------------  -----         \n",
      " 0   bookID              11123 non-null  int64         \n",
      " 1   title               11123 non-null  object        \n",
      " 2   authors             11123 non-null  object        \n",
      " 3   average_rating      11123 non-null  float64       \n",
      " 4   language_code       11123 non-null  object        \n",
      " 5   num_pages           11123 non-null  int64         \n",
      " 6   ratings_count       11123 non-null  int64         \n",
      " 7   text_reviews_count  11123 non-null  int64         \n",
      " 8   publication_date    11123 non-null  datetime64[ns]\n",
      " 9   publisher           11123 non-null  object        \n",
      "dtypes: datetime64[ns](1), float64(1), int64(4), object(4)\n",
      "memory usage: 869.1+ KB\n"
     ]
    }
   ],
   "source": [
    "df.info()"
   ]
  },
  {
   "cell_type": "code",
   "execution_count": 30,
   "metadata": {},
   "outputs": [
    {
     "data": {
      "text/html": [
       "<div>\n",
       "<style scoped>\n",
       "    .dataframe tbody tr th:only-of-type {\n",
       "        vertical-align: middle;\n",
       "    }\n",
       "\n",
       "    .dataframe tbody tr th {\n",
       "        vertical-align: top;\n",
       "    }\n",
       "\n",
       "    .dataframe thead th {\n",
       "        text-align: right;\n",
       "    }\n",
       "</style>\n",
       "<table border=\"1\" class=\"dataframe\">\n",
       "  <thead>\n",
       "    <tr style=\"text-align: right;\">\n",
       "      <th></th>\n",
       "      <th>bookID</th>\n",
       "      <th>title</th>\n",
       "      <th>authors</th>\n",
       "      <th>average_rating</th>\n",
       "      <th>language_code</th>\n",
       "      <th>num_pages</th>\n",
       "      <th>ratings_count</th>\n",
       "      <th>text_reviews_count</th>\n",
       "      <th>publication_date</th>\n",
       "      <th>publisher</th>\n",
       "    </tr>\n",
       "  </thead>\n",
       "  <tbody>\n",
       "    <tr>\n",
       "      <th>6497</th>\n",
       "      <td>24520</td>\n",
       "      <td>The Complete Aubrey/Maturin Novels (5 Volumes)</td>\n",
       "      <td>Patrick O'Brian</td>\n",
       "      <td>4.7000</td>\n",
       "      <td>eng</td>\n",
       "      <td>6576</td>\n",
       "      <td>1338</td>\n",
       "      <td>81</td>\n",
       "      <td>2004-10-17</td>\n",
       "      <td>W. W. Norton  Company</td>\n",
       "    </tr>\n",
       "    <tr>\n",
       "      <th>6802</th>\n",
       "      <td>25587</td>\n",
       "      <td>The Second World War</td>\n",
       "      <td>Winston S. Churchill/John Keegan</td>\n",
       "      <td>4.4500</td>\n",
       "      <td>eng</td>\n",
       "      <td>4736</td>\n",
       "      <td>1493</td>\n",
       "      <td>99</td>\n",
       "      <td>1986-05-09</td>\n",
       "      <td>Mariner Books</td>\n",
       "    </tr>\n",
       "    <tr>\n",
       "      <th>10906</th>\n",
       "      <td>44613</td>\n",
       "      <td>Remembrance of Things Past (Boxed Set)</td>\n",
       "      <td>Marcel Proust/C.K. Scott Moncrieff/Frederick A...</td>\n",
       "      <td>4.3400</td>\n",
       "      <td>eng</td>\n",
       "      <td>3400</td>\n",
       "      <td>6</td>\n",
       "      <td>1</td>\n",
       "      <td>1981-03-05</td>\n",
       "      <td>Chatto &amp; Windus</td>\n",
       "    </tr>\n",
       "    <tr>\n",
       "      <th>6</th>\n",
       "      <td>10</td>\n",
       "      <td>Harry Potter Collection (Harry Potter  #1-6)</td>\n",
       "      <td>J.K. Rowling</td>\n",
       "      <td>4.7300</td>\n",
       "      <td>eng</td>\n",
       "      <td>3342</td>\n",
       "      <td>28242</td>\n",
       "      <td>808</td>\n",
       "      <td>2005-09-12</td>\n",
       "      <td>Scholastic</td>\n",
       "    </tr>\n",
       "    <tr>\n",
       "      <th>6822</th>\n",
       "      <td>25709</td>\n",
       "      <td>Summa Theologica  5 Vols</td>\n",
       "      <td>Thomas Aquinas</td>\n",
       "      <td>4.1200</td>\n",
       "      <td>eng</td>\n",
       "      <td>3020</td>\n",
       "      <td>2734</td>\n",
       "      <td>84</td>\n",
       "      <td>1981-01-01</td>\n",
       "      <td>Christian Classics</td>\n",
       "    </tr>\n",
       "    <tr>\n",
       "      <th>7862</th>\n",
       "      <td>30258</td>\n",
       "      <td>Harrison's Principles of Internal Medicine</td>\n",
       "      <td>Dennis L. Kasper/Dan L. Longo/Stephen L. Hause...</td>\n",
       "      <td>4.3500</td>\n",
       "      <td>eng</td>\n",
       "      <td>2751</td>\n",
       "      <td>23</td>\n",
       "      <td>4</td>\n",
       "      <td>2004-07-27</td>\n",
       "      <td>McGraw-Hill Medical Publishing</td>\n",
       "    </tr>\n",
       "    <tr>\n",
       "      <th>4</th>\n",
       "      <td>8</td>\n",
       "      <td>Harry Potter Boxed Set  Books 1-5 (Harry Potte...</td>\n",
       "      <td>J.K. Rowling/Mary GrandPré</td>\n",
       "      <td>4.7800</td>\n",
       "      <td>eng</td>\n",
       "      <td>2690</td>\n",
       "      <td>41428</td>\n",
       "      <td>164</td>\n",
       "      <td>2004-09-13</td>\n",
       "      <td>Scholastic</td>\n",
       "    </tr>\n",
       "    <tr>\n",
       "      <th>10749</th>\n",
       "      <td>43888</td>\n",
       "      <td>The Sword of Truth  Boxed Set I: Wizard's Firs...</td>\n",
       "      <td>Terry Goodkind</td>\n",
       "      <td>4.2900</td>\n",
       "      <td>en-US</td>\n",
       "      <td>2480</td>\n",
       "      <td>4196</td>\n",
       "      <td>81</td>\n",
       "      <td>1998-11-15</td>\n",
       "      <td>Tor Books</td>\n",
       "    </tr>\n",
       "    <tr>\n",
       "      <th>6257</th>\n",
       "      <td>23589</td>\n",
       "      <td>The J.R.R. Tolkien Companion and Guide</td>\n",
       "      <td>Christina Scull/Wayne G. Hammond</td>\n",
       "      <td>4.6400</td>\n",
       "      <td>eng</td>\n",
       "      <td>2264</td>\n",
       "      <td>45</td>\n",
       "      <td>0</td>\n",
       "      <td>2006-11-02</td>\n",
       "      <td>Houghton Mifflin Harcourt</td>\n",
       "    </tr>\n",
       "    <tr>\n",
       "      <th>5614</th>\n",
       "      <td>20749</td>\n",
       "      <td>Study Bible: NIV</td>\n",
       "      <td>Anonymous</td>\n",
       "      <td>4.7000</td>\n",
       "      <td>eng</td>\n",
       "      <td>2198</td>\n",
       "      <td>4166</td>\n",
       "      <td>186</td>\n",
       "      <td>2002-10-01</td>\n",
       "      <td>Zondervan Publishing House</td>\n",
       "    </tr>\n",
       "  </tbody>\n",
       "</table>\n",
       "</div>"
      ],
      "text/plain": [
       "       bookID                                              title  \\\n",
       "6497    24520     The Complete Aubrey/Maturin Novels (5 Volumes)   \n",
       "6802    25587                               The Second World War   \n",
       "10906   44613             Remembrance of Things Past (Boxed Set)   \n",
       "6          10       Harry Potter Collection (Harry Potter  #1-6)   \n",
       "6822    25709                           Summa Theologica  5 Vols   \n",
       "7862    30258         Harrison's Principles of Internal Medicine   \n",
       "4           8  Harry Potter Boxed Set  Books 1-5 (Harry Potte...   \n",
       "10749   43888  The Sword of Truth  Boxed Set I: Wizard's Firs...   \n",
       "6257    23589             The J.R.R. Tolkien Companion and Guide   \n",
       "5614    20749                                   Study Bible: NIV   \n",
       "\n",
       "                                                 authors  average_rating  \\\n",
       "6497                                     Patrick O'Brian          4.7000   \n",
       "6802                    Winston S. Churchill/John Keegan          4.4500   \n",
       "10906  Marcel Proust/C.K. Scott Moncrieff/Frederick A...          4.3400   \n",
       "6                                           J.K. Rowling          4.7300   \n",
       "6822                                      Thomas Aquinas          4.1200   \n",
       "7862   Dennis L. Kasper/Dan L. Longo/Stephen L. Hause...          4.3500   \n",
       "4                             J.K. Rowling/Mary GrandPré          4.7800   \n",
       "10749                                     Terry Goodkind          4.2900   \n",
       "6257                    Christina Scull/Wayne G. Hammond          4.6400   \n",
       "5614                                           Anonymous          4.7000   \n",
       "\n",
       "      language_code  num_pages  ratings_count  text_reviews_count  \\\n",
       "6497            eng       6576           1338                  81   \n",
       "6802            eng       4736           1493                  99   \n",
       "10906           eng       3400              6                   1   \n",
       "6               eng       3342          28242                 808   \n",
       "6822            eng       3020           2734                  84   \n",
       "7862            eng       2751             23                   4   \n",
       "4               eng       2690          41428                 164   \n",
       "10749         en-US       2480           4196                  81   \n",
       "6257            eng       2264             45                   0   \n",
       "5614            eng       2198           4166                 186   \n",
       "\n",
       "      publication_date                       publisher  \n",
       "6497        2004-10-17           W. W. Norton  Company  \n",
       "6802        1986-05-09                   Mariner Books  \n",
       "10906       1981-03-05                 Chatto & Windus  \n",
       "6           2005-09-12                      Scholastic  \n",
       "6822        1981-01-01              Christian Classics  \n",
       "7862        2004-07-27  McGraw-Hill Medical Publishing  \n",
       "4           2004-09-13                      Scholastic  \n",
       "10749       1998-11-15                       Tor Books  \n",
       "6257        2006-11-02       Houghton Mifflin Harcourt  \n",
       "5614        2002-10-01      Zondervan Publishing House  "
      ]
     },
     "execution_count": 30,
     "metadata": {},
     "output_type": "execute_result"
    }
   ],
   "source": [
    "df.sort_values(by =['num_pages'], ascending = False)[:10]"
   ]
  },
  {
   "cell_type": "markdown",
   "metadata": {},
   "source": [
    "Đa phần các cuốn sách dài đều có số lượng lượt đánh giá thấp, so với trung bình là `17942.8481`, có thể do mọi người ngại đọc do dài quá.  "
   ]
  },
  {
   "cell_type": "markdown",
   "metadata": {},
   "source": [
    "### Tác giả viết nhiều nhất\n"
   ]
  },
  {
   "cell_type": "markdown",
   "metadata": {},
   "source": [
    "Ta gom nhóm theo cột `authors` và đếm số lượng.  \n",
    "Trước đó ta phải xử lý cột `authors`, vì dữ liệu trong cột `authors` có thể gồm tác giả và những dịch giả sau dấu '/'."
   ]
  },
  {
   "cell_type": "code",
   "execution_count": 31,
   "metadata": {},
   "outputs": [
    {
     "data": {
      "image/png": "[encoded data removed]",
      "text/plain": [
       "<Figure size 432x288 with 1 Axes>"
      ]
     },
     "metadata": {
      "needs_background": "light"
     },
     "output_type": "display_data"
    }
   ],
   "source": [
    "col_author = df['authors'].str.extract(r'(.+?)/|(.+)').fillna('') # lấy phần tác giả trước dấu '/'\n",
    "df['authors'] = col_author[0].astype(str) + col_author[1].astype(str)\n",
    "df.groupby('authors').agg('size').sort_values(ascending = False).head(10).plot(kind = 'barh').set(ylabel=\"Authors\", xlabel=\"Num of book\"); "
   ]
  },
  {
   "cell_type": "markdown",
   "metadata": {},
   "source": [
    "Đứng đầu là William Shakespeare và Stephen King với hơn 80 cuốn sách!"
   ]
  },
  {
   "cell_type": "markdown",
   "metadata": {},
   "source": [
    "### Top 10 tác giả được đánh giá cao nhất"
   ]
  },
  {
   "cell_type": "code",
   "execution_count": 32,
   "metadata": {},
   "outputs": [
    {
     "data": {
      "text/plain": [
       "authors\n",
       "Todd Davis                             5.0000\n",
       "Middlesex Borough Heritage Committee   5.0000\n",
       "Nicholas    Evans                      5.0000\n",
       "R. McL. Wilson                         5.0000\n",
       "Ian        Martin                      5.0000\n",
       "William C. Dowling                     5.0000\n",
       "Elena N. Mahlow                        5.0000\n",
       "Sara Barton-Wood                       5.0000\n",
       "Sheri Rose Shepherd                    5.0000\n",
       "John  Diamond                          5.0000\n",
       "Name: average_rating, dtype: float64"
      ]
     },
     "execution_count": 32,
     "metadata": {},
     "output_type": "execute_result"
    }
   ],
   "source": [
    "df.groupby('authors')['average_rating'].agg('mean').sort_values(ascending = False).head(10)"
   ]
  },
  {
   "cell_type": "markdown",
   "metadata": {},
   "source": [
    "### Phân bố sách phát hành theo từng năm\n"
   ]
  },
  {
   "cell_type": "markdown",
   "metadata": {},
   "source": [
    "Để trả lời câu hỏi này ta cần thêm một cột `year` vào df"
   ]
  },
  {
   "cell_type": "code",
   "execution_count": 40,
   "metadata": {},
   "outputs": [
    {
     "data": {
      "text/html": [
       "<div>\n",
       "<style scoped>\n",
       "    .dataframe tbody tr th:only-of-type {\n",
       "        vertical-align: middle;\n",
       "    }\n",
       "\n",
       "    .dataframe tbody tr th {\n",
       "        vertical-align: top;\n",
       "    }\n",
       "\n",
       "    .dataframe thead th {\n",
       "        text-align: right;\n",
       "    }\n",
       "</style>\n",
       "<table border=\"1\" class=\"dataframe\">\n",
       "  <thead>\n",
       "    <tr style=\"text-align: right;\">\n",
       "      <th></th>\n",
       "      <th>bookID</th>\n",
       "      <th>title</th>\n",
       "      <th>authors</th>\n",
       "      <th>average_rating</th>\n",
       "      <th>language_code</th>\n",
       "      <th>num_pages</th>\n",
       "      <th>ratings_count</th>\n",
       "      <th>text_reviews_count</th>\n",
       "      <th>publication_date</th>\n",
       "      <th>publisher</th>\n",
       "      <th>year</th>\n",
       "    </tr>\n",
       "  </thead>\n",
       "  <tbody>\n",
       "    <tr>\n",
       "      <th>0</th>\n",
       "      <td>1</td>\n",
       "      <td>Harry Potter and the Half-Blood Prince (Harry ...</td>\n",
       "      <td>J.K. Rowling</td>\n",
       "      <td>4.5700</td>\n",
       "      <td>eng</td>\n",
       "      <td>652</td>\n",
       "      <td>2095690</td>\n",
       "      <td>27591</td>\n",
       "      <td>2006-09-16</td>\n",
       "      <td>Scholastic Inc.</td>\n",
       "      <td>2006</td>\n",
       "    </tr>\n",
       "    <tr>\n",
       "      <th>1</th>\n",
       "      <td>2</td>\n",
       "      <td>Harry Potter and the Order of the Phoenix (Har...</td>\n",
       "      <td>J.K. Rowling</td>\n",
       "      <td>4.4900</td>\n",
       "      <td>eng</td>\n",
       "      <td>870</td>\n",
       "      <td>2153167</td>\n",
       "      <td>29221</td>\n",
       "      <td>2004-09-01</td>\n",
       "      <td>Scholastic Inc.</td>\n",
       "      <td>2004</td>\n",
       "    </tr>\n",
       "    <tr>\n",
       "      <th>2</th>\n",
       "      <td>4</td>\n",
       "      <td>Harry Potter and the Chamber of Secrets (Harry...</td>\n",
       "      <td>J.K. Rowling</td>\n",
       "      <td>4.4200</td>\n",
       "      <td>eng</td>\n",
       "      <td>352</td>\n",
       "      <td>6333</td>\n",
       "      <td>244</td>\n",
       "      <td>2003-11-01</td>\n",
       "      <td>Scholastic</td>\n",
       "      <td>2003</td>\n",
       "    </tr>\n",
       "    <tr>\n",
       "      <th>3</th>\n",
       "      <td>5</td>\n",
       "      <td>Harry Potter and the Prisoner of Azkaban (Harr...</td>\n",
       "      <td>J.K. Rowling</td>\n",
       "      <td>4.5600</td>\n",
       "      <td>eng</td>\n",
       "      <td>435</td>\n",
       "      <td>2339585</td>\n",
       "      <td>36325</td>\n",
       "      <td>2004-05-01</td>\n",
       "      <td>Scholastic Inc.</td>\n",
       "      <td>2004</td>\n",
       "    </tr>\n",
       "    <tr>\n",
       "      <th>4</th>\n",
       "      <td>8</td>\n",
       "      <td>Harry Potter Boxed Set  Books 1-5 (Harry Potte...</td>\n",
       "      <td>J.K. Rowling</td>\n",
       "      <td>4.7800</td>\n",
       "      <td>eng</td>\n",
       "      <td>2690</td>\n",
       "      <td>41428</td>\n",
       "      <td>164</td>\n",
       "      <td>2004-09-13</td>\n",
       "      <td>Scholastic</td>\n",
       "      <td>2004</td>\n",
       "    </tr>\n",
       "    <tr>\n",
       "      <th>...</th>\n",
       "      <td>...</td>\n",
       "      <td>...</td>\n",
       "      <td>...</td>\n",
       "      <td>...</td>\n",
       "      <td>...</td>\n",
       "      <td>...</td>\n",
       "      <td>...</td>\n",
       "      <td>...</td>\n",
       "      <td>...</td>\n",
       "      <td>...</td>\n",
       "      <td>...</td>\n",
       "    </tr>\n",
       "    <tr>\n",
       "      <th>11118</th>\n",
       "      <td>45631</td>\n",
       "      <td>Expelled from Eden: A William T. Vollmann Reader</td>\n",
       "      <td>William T. Vollmann</td>\n",
       "      <td>4.0600</td>\n",
       "      <td>eng</td>\n",
       "      <td>512</td>\n",
       "      <td>156</td>\n",
       "      <td>20</td>\n",
       "      <td>2004-12-21</td>\n",
       "      <td>Da Capo Press</td>\n",
       "      <td>2004</td>\n",
       "    </tr>\n",
       "    <tr>\n",
       "      <th>11119</th>\n",
       "      <td>45633</td>\n",
       "      <td>You Bright and Risen Angels</td>\n",
       "      <td>William T. Vollmann</td>\n",
       "      <td>4.0800</td>\n",
       "      <td>eng</td>\n",
       "      <td>635</td>\n",
       "      <td>783</td>\n",
       "      <td>56</td>\n",
       "      <td>1988-12-01</td>\n",
       "      <td>Penguin Books</td>\n",
       "      <td>1988</td>\n",
       "    </tr>\n",
       "    <tr>\n",
       "      <th>11120</th>\n",
       "      <td>45634</td>\n",
       "      <td>The Ice-Shirt (Seven Dreams #1)</td>\n",
       "      <td>William T. Vollmann</td>\n",
       "      <td>3.9600</td>\n",
       "      <td>eng</td>\n",
       "      <td>415</td>\n",
       "      <td>820</td>\n",
       "      <td>95</td>\n",
       "      <td>1993-08-01</td>\n",
       "      <td>Penguin Books</td>\n",
       "      <td>1993</td>\n",
       "    </tr>\n",
       "    <tr>\n",
       "      <th>11121</th>\n",
       "      <td>45639</td>\n",
       "      <td>Poor People</td>\n",
       "      <td>William T. Vollmann</td>\n",
       "      <td>3.7200</td>\n",
       "      <td>eng</td>\n",
       "      <td>434</td>\n",
       "      <td>769</td>\n",
       "      <td>139</td>\n",
       "      <td>2007-02-27</td>\n",
       "      <td>Ecco</td>\n",
       "      <td>2007</td>\n",
       "    </tr>\n",
       "    <tr>\n",
       "      <th>11122</th>\n",
       "      <td>45641</td>\n",
       "      <td>Las aventuras de Tom Sawyer</td>\n",
       "      <td>Mark Twain</td>\n",
       "      <td>3.9100</td>\n",
       "      <td>spa</td>\n",
       "      <td>272</td>\n",
       "      <td>113</td>\n",
       "      <td>12</td>\n",
       "      <td>2006-05-28</td>\n",
       "      <td>Edimat Libros</td>\n",
       "      <td>2006</td>\n",
       "    </tr>\n",
       "  </tbody>\n",
       "</table>\n",
       "<p>11123 rows × 11 columns</p>\n",
       "</div>"
      ],
      "text/plain": [
       "       bookID                                              title  \\\n",
       "0           1  Harry Potter and the Half-Blood Prince (Harry ...   \n",
       "1           2  Harry Potter and the Order of the Phoenix (Har...   \n",
       "2           4  Harry Potter and the Chamber of Secrets (Harry...   \n",
       "3           5  Harry Potter and the Prisoner of Azkaban (Harr...   \n",
       "4           8  Harry Potter Boxed Set  Books 1-5 (Harry Potte...   \n",
       "...       ...                                                ...   \n",
       "11118   45631   Expelled from Eden: A William T. Vollmann Reader   \n",
       "11119   45633                        You Bright and Risen Angels   \n",
       "11120   45634                    The Ice-Shirt (Seven Dreams #1)   \n",
       "11121   45639                                        Poor People   \n",
       "11122   45641                        Las aventuras de Tom Sawyer   \n",
       "\n",
       "                   authors  average_rating language_code  num_pages  \\\n",
       "0             J.K. Rowling          4.5700           eng        652   \n",
       "1             J.K. Rowling          4.4900           eng        870   \n",
       "2             J.K. Rowling          4.4200           eng        352   \n",
       "3             J.K. Rowling          4.5600           eng        435   \n",
       "4             J.K. Rowling          4.7800           eng       2690   \n",
       "...                    ...             ...           ...        ...   \n",
       "11118  William T. Vollmann          4.0600           eng        512   \n",
       "11119  William T. Vollmann          4.0800           eng        635   \n",
       "11120  William T. Vollmann          3.9600           eng        415   \n",
       "11121  William T. Vollmann          3.7200           eng        434   \n",
       "11122           Mark Twain          3.9100           spa        272   \n",
       "\n",
       "       ratings_count  text_reviews_count publication_date        publisher  \\\n",
       "0            2095690               27591       2006-09-16  Scholastic Inc.   \n",
       "1            2153167               29221       2004-09-01  Scholastic Inc.   \n",
       "2               6333                 244       2003-11-01       Scholastic   \n",
       "3            2339585               36325       2004-05-01  Scholastic Inc.   \n",
       "4              41428                 164       2004-09-13       Scholastic   \n",
       "...              ...                 ...              ...              ...   \n",
       "11118            156                  20       2004-12-21    Da Capo Press   \n",
       "11119            783                  56       1988-12-01    Penguin Books   \n",
       "11120            820                  95       1993-08-01    Penguin Books   \n",
       "11121            769                 139       2007-02-27             Ecco   \n",
       "11122            113                  12       2006-05-28    Edimat Libros   \n",
       "\n",
       "       year  \n",
       "0      2006  \n",
       "1      2004  \n",
       "2      2003  \n",
       "3      2004  \n",
       "4      2004  \n",
       "...     ...  \n",
       "11118  2004  \n",
       "11119  1988  \n",
       "11120  1993  \n",
       "11121  2007  \n",
       "11122  2006  \n",
       "\n",
       "[11123 rows x 11 columns]"
      ]
     },
     "execution_count": 40,
     "metadata": {},
     "output_type": "execute_result"
    }
   ],
   "source": [
    "def year(a):\n",
    "    return a.year\n",
    "df['year'] = df['publication_date'].apply(year)\n",
    "df"
   ]
  },
  {
   "cell_type": "code",
   "execution_count": 38,
   "metadata": {},
   "outputs": [
    {
     "data": {
      "image/png": "[encoded data removed]",
      "text/plain": [
       "<Figure size 720x432 with 2 Axes>"
      ]
     },
     "metadata": {
      "needs_background": "light"
     },
     "output_type": "display_data"
    }
   ],
   "source": [
    "h_labels = [x.replace('_', ' ').title() for x in \n",
    "            list(df.select_dtypes(include=['number']).columns.values)]\n",
    "\n",
    "fig, ax = plt.subplots(figsize=(10,6))\n",
    "_ = sns.heatmap(df.corr(), annot=True, xticklabels=h_labels, yticklabels=h_labels, cmap=sns.cubehelix_palette(as_cmap=True), ax=ax)"
   ]
  },
  {
   "cell_type": "code",
   "execution_count": 43,
   "metadata": {},
   "outputs": [
    {
     "data": {
      "image/png": "[encoded data removed]",
      "text/plain": [
       "<Figure size 432x288 with 1 Axes>"
      ]
     },
     "metadata": {
      "needs_background": "light"
     },
     "output_type": "display_data"
    }
   ],
   "source": [
    "year_df = df.groupby('year')['bookID'].count()\n",
    "year_df.plot(kind = 'line', marker = 'o').set(ylabel = 'Num of book');"
   ]
  },
  {
   "cell_type": "markdown",
   "metadata": {},
   "source": [
    "Nhìn vào biểu đồ có thể thấy số sách được xuất bản tăng nhanh chóng những năm đầu thế kỷ 21, rồi lại tụt rất nhanh.  \n",
    "Rất có thể do sự tác động của Internet làm giảm số lượng sách hoặc số người đọc sách."
   ]
  },
  {
   "cell_type": "code",
   "execution_count": null,
   "metadata": {},
   "outputs": [],
   "source": [
    "df.groupby('publisher')['bookID'].count().sort_values(ascending = False).head(10)"
   ]
  },
  {
   "cell_type": "code",
   "execution_count": null,
   "metadata": {},
   "outputs": [],
   "source": []
  }
 ],
 "metadata": {
  "kernelspec": {
   "display_name": "Python 3",
   "language": "python",
   "name": "python3"
  },
  "language_info": {
   "codemirror_mode": {
    "name": "ipython",
    "version": 3
   },
   "file_extension": ".py",
   "mimetype": "text/x-python",
   "name": "python",
   "nbconvert_exporter": "python",
   "pygments_lexer": "ipython3",
   "version": "3.7.6"
  }
 },
 "nbformat": 4,
 "nbformat_minor": 4
}
